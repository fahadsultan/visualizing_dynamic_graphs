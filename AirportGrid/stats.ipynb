{
 "cells": [
  {
   "cell_type": "code",
   "execution_count": 9,
   "metadata": {},
   "outputs": [
    {
     "name": "stdout",
     "output_type": "stream",
     "text": [
      "5335\n"
     ]
    },
    {
     "data": {
      "text/html": [
       "<div>\n",
       "<style scoped>\n",
       "    .dataframe tbody tr th:only-of-type {\n",
       "        vertical-align: middle;\n",
       "    }\n",
       "\n",
       "    .dataframe tbody tr th {\n",
       "        vertical-align: top;\n",
       "    }\n",
       "\n",
       "    .dataframe thead th {\n",
       "        text-align: right;\n",
       "    }\n",
       "</style>\n",
       "<table border=\"1\" class=\"dataframe\">\n",
       "  <thead>\n",
       "    <tr style=\"text-align: right;\">\n",
       "      <th></th>\n",
       "      <th>origin</th>\n",
       "      <th>destination</th>\n",
       "      <th>count</th>\n",
       "    </tr>\n",
       "  </thead>\n",
       "  <tbody>\n",
       "    <tr>\n",
       "      <th>0</th>\n",
       "      <td>JAX_0</td>\n",
       "      <td>IAD_1</td>\n",
       "      <td>0</td>\n",
       "    </tr>\n",
       "    <tr>\n",
       "      <th>1</th>\n",
       "      <td>SMF_0</td>\n",
       "      <td>DFW_1</td>\n",
       "      <td>0</td>\n",
       "    </tr>\n",
       "    <tr>\n",
       "      <th>2</th>\n",
       "      <td>LAX_0</td>\n",
       "      <td>SMF_1</td>\n",
       "      <td>0</td>\n",
       "    </tr>\n",
       "    <tr>\n",
       "      <th>3</th>\n",
       "      <td>TPA_0</td>\n",
       "      <td>MEM_1</td>\n",
       "      <td>0</td>\n",
       "    </tr>\n",
       "    <tr>\n",
       "      <th>4</th>\n",
       "      <td>MSP_0</td>\n",
       "      <td>SMF_1</td>\n",
       "      <td>0</td>\n",
       "    </tr>\n",
       "    <tr>\n",
       "      <th>5</th>\n",
       "      <td>ORD_0</td>\n",
       "      <td>SAT_1</td>\n",
       "      <td>0</td>\n",
       "    </tr>\n",
       "    <tr>\n",
       "      <th>6</th>\n",
       "      <td>SEA_0</td>\n",
       "      <td>SMF_1</td>\n",
       "      <td>0</td>\n",
       "    </tr>\n",
       "    <tr>\n",
       "      <th>7</th>\n",
       "      <td>BOS_0</td>\n",
       "      <td>MEM_1</td>\n",
       "      <td>0</td>\n",
       "    </tr>\n",
       "    <tr>\n",
       "      <th>8</th>\n",
       "      <td>RNO_0</td>\n",
       "      <td>SMF_1</td>\n",
       "      <td>0</td>\n",
       "    </tr>\n",
       "    <tr>\n",
       "      <th>9</th>\n",
       "      <td>LAX_0</td>\n",
       "      <td>SAT_1</td>\n",
       "      <td>0</td>\n",
       "    </tr>\n",
       "  </tbody>\n",
       "</table>\n",
       "</div>"
      ],
      "text/plain": [
       "  origin destination  count\n",
       "0  JAX_0       IAD_1      0\n",
       "1  SMF_0       DFW_1      0\n",
       "2  LAX_0       SMF_1      0\n",
       "3  TPA_0       MEM_1      0\n",
       "4  MSP_0       SMF_1      0\n",
       "5  ORD_0       SAT_1      0\n",
       "6  SEA_0       SMF_1      0\n",
       "7  BOS_0       MEM_1      0\n",
       "8  RNO_0       SMF_1      0\n",
       "9  LAX_0       SAT_1      0"
      ]
     },
     "execution_count": 9,
     "metadata": {},
     "output_type": "execute_result"
    }
   ],
   "source": [
    "import pandas as pd\n",
    "\n",
    "df = pd.read_csv('flights.csv')\n",
    "#print(df.head(10))\n",
    "\n",
    "num_airports = len(df.index)\n",
    "\n",
    "\n",
    "print(num_airports)\n",
    "df.head(10)\n",
    "\n",
    "\n"
   ]
  },
  {
   "cell_type": "code",
   "execution_count": 14,
   "metadata": {},
   "outputs": [],
   "source": [
    "chicago_flights = df[df['origin'].apply(lambda x: x.startswith('ORD'))]"
   ]
  },
  {
   "cell_type": "code",
   "execution_count": 36,
   "metadata": {},
   "outputs": [
    {
     "data": {
      "text/plain": [
       "SAT    12\n",
       "SMF    12\n",
       "SEA    12\n",
       "LGA    12\n",
       "SLC    12\n",
       "RNO    12\n",
       "PWM    12\n",
       "BOS    12\n",
       "ANC    12\n",
       "TPA    12\n",
       "SYR    12\n",
       "PHL    12\n",
       "AUS    12\n",
       "CLT    12\n",
       "MSP    12\n",
       "DTW    12\n",
       "IAD    12\n",
       "DCA    12\n",
       "DFW    12\n",
       "MCI    12\n",
       "LAX    12\n",
       "BNA    12\n",
       "RDU    12\n",
       "CLE    12\n",
       "JAX    12\n",
       "MEM    12\n",
       "SAV    11\n",
       "MDW     2\n",
       "Name: destination, dtype: int64"
      ]
     },
     "execution_count": 36,
     "metadata": {},
     "output_type": "execute_result"
    }
   ],
   "source": [
    "chicago_flights['destination'].apply(lambda x: x[0:3]).value_counts()\n"
   ]
  }
 ],
 "metadata": {
  "kernelspec": {
   "display_name": "Python 3",
   "language": "python",
   "name": "python3"
  },
  "language_info": {
   "codemirror_mode": {
    "name": "ipython",
    "version": 3
   },
   "file_extension": ".py",
   "mimetype": "text/x-python",
   "name": "python",
   "nbconvert_exporter": "python",
   "pygments_lexer": "ipython3",
   "version": "3.9.7"
  },
  "orig_nbformat": 4
 },
 "nbformat": 4,
 "nbformat_minor": 2
}
