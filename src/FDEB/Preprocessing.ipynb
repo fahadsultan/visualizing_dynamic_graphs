{
 "cells": [
  {
   "cell_type": "code",
   "execution_count": 113,
   "metadata": {},
   "outputs": [],
   "source": [
    "#Imports \n",
    "from matplotlib import pyplot as plt\n",
    "from tqdm import tqdm \n",
    "import pandas as pd "
   ]
  },
  {
   "cell_type": "code",
   "execution_count": 114,
   "metadata": {},
   "outputs": [],
   "source": [
    "#Read data\n",
    "flights = pd.read_csv('../../data/Airports2.csv')"
   ]
  },
  {
   "cell_type": "code",
   "execution_count": 115,
   "metadata": {},
   "outputs": [],
   "source": [
    "flights['Fly_date'] = pd.to_datetime(flights['Fly_date'])"
   ]
  },
  {
   "cell_type": "code",
   "execution_count": 116,
   "metadata": {},
   "outputs": [],
   "source": [
    "flights['dstate'] = flights['Destination_city'].apply(lambda x: x[-2:])\n",
    "flights['ostate'] = flights['Origin_city'].apply(lambda x: x[-2:])"
   ]
  },
  {
   "cell_type": "code",
   "execution_count": 117,
   "metadata": {},
   "outputs": [],
   "source": [
    "flights['month'] = flights['Fly_date'].dt.month\n",
    "flights['year'] = flights['Fly_date'].dt.year"
   ]
  },
  {
   "cell_type": "code",
   "execution_count": 118,
   "metadata": {},
   "outputs": [],
   "source": [
    "# clusters_series = {'PUB': 1, 'DRO':1, 'AMK': 1, ''}"
   ]
  },
  {
   "cell_type": "code",
   "execution_count": 119,
   "metadata": {},
   "outputs": [],
   "source": [
    "# Get top airports\n",
    "all_airports     = pd.concat([flights['Origin_airport'], flights['Destination_airport']])\n",
    "# top_airports     = list(all_airports.value_counts().head(30).index)\n",
    "top_airports     = list(flights.loc[flights['dstate'].apply(lambda x: x in ['CO', 'LA']), 'Destination_airport'].unique())\n",
    "airport_encoding = {airport:i for i, airport in enumerate(top_airports)}"
   ]
  },
  {
   "cell_type": "code",
   "execution_count": 120,
   "metadata": {},
   "outputs": [],
   "source": [
    "# Only flights from top airports\n",
    "flights = flights[flights.apply(lambda x: (x['Origin_airport'] in top_airports) and (x['Destination_airport'] in top_airports), axis=1)]"
   ]
  },
  {
   "cell_type": "code",
   "execution_count": 121,
   "metadata": {},
   "outputs": [],
   "source": [
    "# Aggregate (sum) passengers, flights and distance\n",
    "tmp   = flights.groupby(['Origin_airport', 'Destination_airport', 'Fly_date'])\n",
    "sums  = tmp.sum().reset_index()\n",
    "sums  = sums[sums['Distance'] > 0]"
   ]
  },
  {
   "cell_type": "code",
   "execution_count": 122,
   "metadata": {},
   "outputs": [
    {
     "name": "stderr",
     "output_type": "stream",
     "text": [
      "/var/folders/l9/y8y3rmys2sl93tzzph3dl7jw0000gr/T/ipykernel_14763/1525524710.py:5: SettingWithCopyWarning: \n",
      "A value is trying to be set on a copy of a slice from a DataFrame.\n",
      "Try using .loc[row_indexer,col_indexer] = value instead\n",
      "\n",
      "See the caveats in the documentation: https://pandas.pydata.org/pandas-docs/stable/user_guide/indexing.html#returning-a-view-versus-a-copy\n",
      "  new_flights['Fly_date'] = new_flights['Fly_date'].apply(pd.to_datetime)\n"
     ]
    }
   ],
   "source": [
    "# Filter one year of data\n",
    "\n",
    "new_flights  = sums[['Origin_airport', 'Destination_airport', 'Fly_date', 'Passengers']]\n",
    "\n",
    "new_flights['Fly_date'] = new_flights['Fly_date'].apply(pd.to_datetime)\n",
    "# new_flights.sort_values(by=['Fly_date'], inplace=True)\n",
    "new_flights.reset_index(drop=True, inplace=True)"
   ]
  },
  {
   "cell_type": "code",
   "execution_count": 123,
   "metadata": {},
   "outputs": [
    {
     "data": {
      "text/plain": [
       "(20,)"
      ]
     },
     "execution_count": 123,
     "metadata": {},
     "output_type": "execute_result"
    }
   ],
   "source": [
    "new_flights['Fly_date'].apply(lambda x: x.year).value_counts().shape"
   ]
  },
  {
   "cell_type": "code",
   "execution_count": 124,
   "metadata": {},
   "outputs": [],
   "source": [
    "one_year = new_flights[new_flights['Fly_date'].apply(lambda x: x.year in range(1990, 2000))]\n",
    "# one_year = new_flights[new_flights['Fly_date'].apply(lambda x: x.year == 1990)]\n",
    "T = sorted(one_year['Fly_date'].unique())\n",
    "date_encoding = {v:i for i, v in enumerate(T)}"
   ]
  },
  {
   "cell_type": "code",
   "execution_count": 125,
   "metadata": {},
   "outputs": [
    {
     "name": "stderr",
     "output_type": "stream",
     "text": [
      "/var/folders/l9/y8y3rmys2sl93tzzph3dl7jw0000gr/T/ipykernel_14763/85588585.py:1: SettingWithCopyWarning: \n",
      "A value is trying to be set on a copy of a slice from a DataFrame\n",
      "\n",
      "See the caveats in the documentation: https://pandas.pydata.org/pandas-docs/stable/user_guide/indexing.html#returning-a-view-versus-a-copy\n",
      "  one_year['Fly_date'].replace(date_encoding, inplace=True)\n",
      "/var/folders/l9/y8y3rmys2sl93tzzph3dl7jw0000gr/T/ipykernel_14763/85588585.py:2: SettingWithCopyWarning: \n",
      "A value is trying to be set on a copy of a slice from a DataFrame.\n",
      "Try using .loc[row_indexer,col_indexer] = value instead\n",
      "\n",
      "See the caveats in the documentation: https://pandas.pydata.org/pandas-docs/stable/user_guide/indexing.html#returning-a-view-versus-a-copy\n",
      "  one_year['Fly_date'] = one_year['Fly_date'] + 1\n"
     ]
    }
   ],
   "source": [
    "one_year['Fly_date'].replace(date_encoding, inplace=True)\n",
    "one_year['Fly_date'] = one_year['Fly_date'] + 1"
   ]
  },
  {
   "cell_type": "code",
   "execution_count": 126,
   "metadata": {},
   "outputs": [],
   "source": [
    "one_year.reset_index(drop=True, inplace=True)"
   ]
  },
  {
   "attachments": {},
   "cell_type": "markdown",
   "metadata": {},
   "source": [
    "# MCMC"
   ]
  },
  {
   "cell_type": "code",
   "execution_count": 127,
   "metadata": {},
   "outputs": [],
   "source": [
    "one_year = one_year[one_year['Passengers'] > 0]"
   ]
  },
  {
   "cell_type": "code",
   "execution_count": 128,
   "metadata": {},
   "outputs": [
    {
     "name": "stderr",
     "output_type": "stream",
     "text": [
      "100%|██████████| 1000/1000 [00:55<00:00, 18.09it/s]\n"
     ]
    }
   ],
   "source": [
    "walks = []\n",
    "n_walks = 1000\n",
    "\n",
    "times = sorted(one_year['Fly_date'].unique())\n",
    "for i in tqdm(range(n_walks)):\n",
    "    walk = []\n",
    "    for t in times:\n",
    "        tmp = one_year[(one_year['Fly_date'] == t)]\n",
    "        if t > 1:\n",
    "            tmp = tmp[tmp['Origin_airport'] == destination]\n",
    "            if len(tmp) == 0:\n",
    "                continue\n",
    "        flight = tmp.sample(n=1, weights='Passengers')\n",
    "        destination = flight['Destination_airport'].values[0]\n",
    "        origin = flight['Origin_airport'].values[0]\n",
    "        walk.append(\"%s_%s\" % (origin, t))\n",
    "    walk.append(\"%s_%s\" % (destination, t+1))\n",
    "    walks.append(walk)"
   ]
  },
  {
   "cell_type": "code",
   "execution_count": 129,
   "metadata": {},
   "outputs": [],
   "source": [
    "pd.DataFrame(walks).to_csv('walks.csv')"
   ]
  },
  {
   "attachments": {},
   "cell_type": "markdown",
   "metadata": {},
   "source": [
    "## Node Positioning"
   ]
  },
  {
   "attachments": {},
   "cell_type": "markdown",
   "metadata": {},
   "source": [
    "Create a static adjacency matrix for the graph.\n"
   ]
  },
  {
   "cell_type": "code",
   "execution_count": 132,
   "metadata": {},
   "outputs": [
    {
     "name": "stderr",
     "output_type": "stream",
     "text": [
      "100%|██████████| 1060/1060 [00:00<00:00, 6839.95it/s]\n"
     ]
    }
   ],
   "source": [
    "matrix = pd.DataFrame(0, index=top_airports, columns=top_airports)\n",
    "for i in tqdm(range(len(one_year))):\n",
    "    row = one_year.iloc[i]\n",
    "    matrix.loc[row['Origin_airport'], row['Destination_airport']] += row['Passengers']"
   ]
  },
  {
   "cell_type": "code",
   "execution_count": 133,
   "metadata": {},
   "outputs": [],
   "source": [
    "#Clustering (static adjacency matrix)\n",
    "\n",
    "from sklearn.cluster import AgglomerativeClustering, KMeans\n",
    "# sc = AgglomerativeClustering(n_clusters=3)\n",
    "sc = KMeans(n_clusters=2, random_state=42)\n",
    "clusters = sc.fit_predict(matrix)"
   ]
  },
  {
   "cell_type": "code",
   "execution_count": 134,
   "metadata": {},
   "outputs": [
    {
     "data": {
      "image/png": "[encoded data removed]",
      "text/plain": [
       "<Figure size 432x288 with 2 Axes>"
      ]
     },
     "metadata": {
      "needs_background": "light"
     },
     "output_type": "display_data"
    }
   ],
   "source": [
    "# Dimensionality reduction to 2-dimensional space \n",
    "# for visualization of clusters\n",
    "\n",
    "from sklearn.decomposition import PCA\n",
    "pca = PCA(n_components=2, random_state=42)\n",
    "reduced = pca.fit_transform(matrix)\n",
    "reduced = pd.DataFrame(reduced)\n",
    "plt.scatter(reduced[0], reduced[1], c=clusters);\n",
    "plt.colorbar();"
   ]
  },
  {
   "cell_type": "code",
   "execution_count": 135,
   "metadata": {},
   "outputs": [],
   "source": [
    "# Creating a mapping between airports and clusters\n",
    "\n",
    "clusters_dict = dict(zip(matrix.index,clusters))\n",
    "clusters_series = pd.Series(clusters_dict).sort_values()\n",
    "clusters_series.name = 'cluster'\n",
    "\n",
    "la_airs = flights.loc[flights['dstate']=='LA', 'Destination_airport'].unique()\n",
    "co_airs = flights.loc[flights['dstate']=='CO', 'Destination_airport'].unique()\n",
    "\n",
    "clusters = {air: 0 for air in la_airs}\n",
    "clusters.update({air: 1 for air in co_airs})\n",
    "clusters_series = pd.Series(clusters)\n",
    "clusters_series.name = 'cluster'"
   ]
  },
  {
   "cell_type": "code",
   "execution_count": 136,
   "metadata": {},
   "outputs": [],
   "source": [
    "# Sorting top airports by their cluster number \n",
    "\n",
    "# top_airports.sort(key=lambda x: clusters_series.loc[x])"
   ]
  },
  {
   "cell_type": "code",
   "execution_count": 137,
   "metadata": {},
   "outputs": [
    {
     "data": {
      "image/png": "[encoded data removed]",
      "text/plain": [
       "<Figure size 720x360 with 4 Axes>"
      ]
     },
     "metadata": {
      "needs_background": "light"
     },
     "output_type": "display_data"
    }
   ],
   "source": [
    "# Visualizing the adjacency matrix before and after sorting by clusters\n",
    "\n",
    "fig, axs = plt.subplots(1, 2, figsize=(10,5))\n",
    "\n",
    "img = axs[0].imshow(matrix, cmap='Reds');\n",
    "fig.colorbar(img, ax=axs[0]);\n",
    "\n",
    "matrix_2 = matrix.loc[clusters_series.index, clusters_series.index]\n",
    "img = axs[1].imshow(matrix_2, cmap='Reds');\n",
    "axs[1].set_yticks(range(len(matrix_2)), clusters_series.values);\n",
    "fig.colorbar(img, ax=axs[1]);\n"
   ]
  },
  {
   "cell_type": "code",
   "execution_count": 138,
   "metadata": {},
   "outputs": [
    {
     "data": {
      "image/png": "[encoded data removed]",
      "text/plain": [
       "<Figure size 720x360 with 4 Axes>"
      ]
     },
     "metadata": {
      "needs_background": "light"
     },
     "output_type": "display_data"
    }
   ],
   "source": [
    "# Visualizing the carpet plot before and after sorting by clusters\n",
    "\n",
    "carpet = one_year.pivot_table(index=['Origin_airport', 'Destination_airport'], \\\n",
    "    columns='Fly_date', values='Passengers', aggfunc='sum').fillna(0).reset_index()\n",
    "\n",
    "carpet2 = pd.merge(clusters_series, carpet, right_on='Origin_airport', left_index=True)\n",
    "carpet2 = carpet2.sort_values(['cluster', 'Origin_airport'])\n",
    "carpet2.reset_index(drop=True, inplace=True)\n",
    "\n",
    "fig, axs = plt.subplots(1, 2, figsize=(10,5))\n",
    "img = axs[0].imshow(carpet[carpet.columns[2:]], cmap='Reds', aspect='auto');\n",
    "fig.colorbar(img, ax=axs[0]);\n",
    "img = axs[1].imshow(carpet2[carpet.columns[3:]], cmap='Reds', aspect='auto');\n",
    "# axs[1].set_yticks(carpet2.index[::10], carpet2['cluster'][::10].values);\n",
    "axs[1].set_yticks(carpet2.index, carpet2['cluster'].values);\n",
    "fig.colorbar(img, ax=axs[1]);"
   ]
  },
  {
   "attachments": {},
   "cell_type": "markdown",
   "metadata": {},
   "source": [
    "## Flights for airport grid"
   ]
  },
  {
   "cell_type": "code",
   "execution_count": 139,
   "metadata": {},
   "outputs": [],
   "source": [
    "merged  = pd.merge(one_year, clusters_series, left_on='Origin_airport', right_index=True)\n",
    "merged2 = pd.merge(merged, clusters_series, left_on='Destination_airport', right_index=True, suffixes=('_origin', '_destination'))"
   ]
  },
  {
   "cell_type": "code",
   "execution_count": 140,
   "metadata": {},
   "outputs": [
    {
     "data": {
      "text/html": [
       "<div>\n",
       "<style scoped>\n",
       "    .dataframe tbody tr th:only-of-type {\n",
       "        vertical-align: middle;\n",
       "    }\n",
       "\n",
       "    .dataframe tbody tr th {\n",
       "        vertical-align: top;\n",
       "    }\n",
       "\n",
       "    .dataframe thead th {\n",
       "        text-align: right;\n",
       "    }\n",
       "</style>\n",
       "<table border=\"1\" class=\"dataframe\">\n",
       "  <thead>\n",
       "    <tr style=\"text-align: right;\">\n",
       "      <th></th>\n",
       "      <th>cluster_origin</th>\n",
       "      <th>cluster_destination</th>\n",
       "      <th>size</th>\n",
       "      <th>sum</th>\n",
       "    </tr>\n",
       "  </thead>\n",
       "  <tbody>\n",
       "    <tr>\n",
       "      <th>0</th>\n",
       "      <td>0</td>\n",
       "      <td>0</td>\n",
       "      <td>5238</td>\n",
       "      <td>1173947</td>\n",
       "    </tr>\n",
       "    <tr>\n",
       "      <th>3</th>\n",
       "      <td>1</td>\n",
       "      <td>1</td>\n",
       "      <td>972</td>\n",
       "      <td>177397</td>\n",
       "    </tr>\n",
       "    <tr>\n",
       "      <th>1</th>\n",
       "      <td>0</td>\n",
       "      <td>1</td>\n",
       "      <td>114</td>\n",
       "      <td>2224</td>\n",
       "    </tr>\n",
       "    <tr>\n",
       "      <th>2</th>\n",
       "      <td>1</td>\n",
       "      <td>0</td>\n",
       "      <td>36</td>\n",
       "      <td>699</td>\n",
       "    </tr>\n",
       "  </tbody>\n",
       "</table>\n",
       "</div>"
      ],
      "text/plain": [
       "   cluster_origin  cluster_destination  size      sum\n",
       "0               0                    0  5238  1173947\n",
       "3               1                    1   972   177397\n",
       "1               0                    1   114     2224\n",
       "2               1                    0    36      699"
      ]
     },
     "execution_count": 140,
     "metadata": {},
     "output_type": "execute_result"
    }
   ],
   "source": [
    "cluster_stats = merged2.groupby(['cluster_origin', 'cluster_destination']).apply(\\\n",
    "                    lambda x: pd.Series({'size': x.size, 'sum': x['Passengers'].sum()})).reset_index()\n",
    "\n",
    "cluster_stats.sort_values(['size'], ascending=False)"
   ]
  },
  {
   "cell_type": "code",
   "execution_count": 141,
   "metadata": {},
   "outputs": [
    {
     "data": {
      "text/html": [
       "<div>\n",
       "<style scoped>\n",
       "    .dataframe tbody tr th:only-of-type {\n",
       "        vertical-align: middle;\n",
       "    }\n",
       "\n",
       "    .dataframe tbody tr th {\n",
       "        vertical-align: top;\n",
       "    }\n",
       "\n",
       "    .dataframe thead th {\n",
       "        text-align: right;\n",
       "    }\n",
       "</style>\n",
       "<table border=\"1\" class=\"dataframe\">\n",
       "  <thead>\n",
       "    <tr style=\"text-align: right;\">\n",
       "      <th></th>\n",
       "      <th>Origin_airport</th>\n",
       "      <th>Destination_airport</th>\n",
       "      <th>Fly_date</th>\n",
       "      <th>Passengers</th>\n",
       "      <th>cluster_origin</th>\n",
       "      <th>cluster_destination</th>\n",
       "    </tr>\n",
       "  </thead>\n",
       "  <tbody>\n",
       "    <tr>\n",
       "      <th>1</th>\n",
       "      <td>AEX</td>\n",
       "      <td>BTR</td>\n",
       "      <td>116</td>\n",
       "      <td>42</td>\n",
       "      <td>0</td>\n",
       "      <td>0</td>\n",
       "    </tr>\n",
       "    <tr>\n",
       "      <th>388</th>\n",
       "      <td>LCH</td>\n",
       "      <td>BTR</td>\n",
       "      <td>64</td>\n",
       "      <td>41</td>\n",
       "      <td>0</td>\n",
       "      <td>0</td>\n",
       "    </tr>\n",
       "    <tr>\n",
       "      <th>389</th>\n",
       "      <td>LCH</td>\n",
       "      <td>BTR</td>\n",
       "      <td>66</td>\n",
       "      <td>44</td>\n",
       "      <td>0</td>\n",
       "      <td>0</td>\n",
       "    </tr>\n",
       "    <tr>\n",
       "      <th>390</th>\n",
       "      <td>LCH</td>\n",
       "      <td>BTR</td>\n",
       "      <td>79</td>\n",
       "      <td>48</td>\n",
       "      <td>0</td>\n",
       "      <td>0</td>\n",
       "    </tr>\n",
       "    <tr>\n",
       "      <th>414</th>\n",
       "      <td>LFT</td>\n",
       "      <td>BTR</td>\n",
       "      <td>1</td>\n",
       "      <td>779</td>\n",
       "      <td>0</td>\n",
       "      <td>0</td>\n",
       "    </tr>\n",
       "  </tbody>\n",
       "</table>\n",
       "</div>"
      ],
      "text/plain": [
       "    Origin_airport Destination_airport  Fly_date  Passengers  cluster_origin  \\\n",
       "1              AEX                 BTR       116          42               0   \n",
       "388            LCH                 BTR        64          41               0   \n",
       "389            LCH                 BTR        66          44               0   \n",
       "390            LCH                 BTR        79          48               0   \n",
       "414            LFT                 BTR         1         779               0   \n",
       "\n",
       "     cluster_destination  \n",
       "1                      0  \n",
       "388                    0  \n",
       "389                    0  \n",
       "390                    0  \n",
       "414                    0  "
      ]
     },
     "execution_count": 141,
     "metadata": {},
     "output_type": "execute_result"
    }
   ],
   "source": [
    "merged2.head()"
   ]
  },
  {
   "cell_type": "code",
   "execution_count": 659,
   "metadata": {},
   "outputs": [
    {
     "data": {
      "text/html": [
       "<div>\n",
       "<style scoped>\n",
       "    .dataframe tbody tr th:only-of-type {\n",
       "        vertical-align: middle;\n",
       "    }\n",
       "\n",
       "    .dataframe tbody tr th {\n",
       "        vertical-align: top;\n",
       "    }\n",
       "\n",
       "    .dataframe thead th {\n",
       "        text-align: right;\n",
       "    }\n",
       "</style>\n",
       "<table border=\"1\" class=\"dataframe\">\n",
       "  <thead>\n",
       "    <tr style=\"text-align: right;\">\n",
       "      <th></th>\n",
       "      <th>Origin_airport</th>\n",
       "      <th>Destination_airport</th>\n",
       "      <th>Fly_date</th>\n",
       "      <th>Passengers</th>\n",
       "      <th>cluster_origin</th>\n",
       "      <th>cluster_destination</th>\n",
       "    </tr>\n",
       "  </thead>\n",
       "  <tbody>\n",
       "    <tr>\n",
       "      <th>2132</th>\n",
       "      <td>SHV</td>\n",
       "      <td>MLU</td>\n",
       "      <td>6</td>\n",
       "      <td>4654</td>\n",
       "      <td>0</td>\n",
       "      <td>0</td>\n",
       "    </tr>\n",
       "    <tr>\n",
       "      <th>2134</th>\n",
       "      <td>SHV</td>\n",
       "      <td>MLU</td>\n",
       "      <td>8</td>\n",
       "      <td>4603</td>\n",
       "      <td>0</td>\n",
       "      <td>0</td>\n",
       "    </tr>\n",
       "    <tr>\n",
       "      <th>2133</th>\n",
       "      <td>SHV</td>\n",
       "      <td>MLU</td>\n",
       "      <td>7</td>\n",
       "      <td>4564</td>\n",
       "      <td>0</td>\n",
       "      <td>0</td>\n",
       "    </tr>\n",
       "    <tr>\n",
       "      <th>2138</th>\n",
       "      <td>SHV</td>\n",
       "      <td>MLU</td>\n",
       "      <td>12</td>\n",
       "      <td>3906</td>\n",
       "      <td>0</td>\n",
       "      <td>0</td>\n",
       "    </tr>\n",
       "    <tr>\n",
       "      <th>2129</th>\n",
       "      <td>SHV</td>\n",
       "      <td>MLU</td>\n",
       "      <td>3</td>\n",
       "      <td>3881</td>\n",
       "      <td>0</td>\n",
       "      <td>0</td>\n",
       "    </tr>\n",
       "    <tr>\n",
       "      <th>1919</th>\n",
       "      <td>PUB</td>\n",
       "      <td>COS</td>\n",
       "      <td>8</td>\n",
       "      <td>3837</td>\n",
       "      <td>1</td>\n",
       "      <td>1</td>\n",
       "    </tr>\n",
       "    <tr>\n",
       "      <th>1330</th>\n",
       "      <td>MLU</td>\n",
       "      <td>SHV</td>\n",
       "      <td>7</td>\n",
       "      <td>3758</td>\n",
       "      <td>0</td>\n",
       "      <td>0</td>\n",
       "    </tr>\n",
       "    <tr>\n",
       "      <th>608</th>\n",
       "      <td>COS</td>\n",
       "      <td>PUB</td>\n",
       "      <td>8</td>\n",
       "      <td>3675</td>\n",
       "      <td>1</td>\n",
       "      <td>1</td>\n",
       "    </tr>\n",
       "    <tr>\n",
       "      <th>2137</th>\n",
       "      <td>SHV</td>\n",
       "      <td>MLU</td>\n",
       "      <td>11</td>\n",
       "      <td>3611</td>\n",
       "      <td>0</td>\n",
       "      <td>0</td>\n",
       "    </tr>\n",
       "    <tr>\n",
       "      <th>2131</th>\n",
       "      <td>SHV</td>\n",
       "      <td>MLU</td>\n",
       "      <td>5</td>\n",
       "      <td>3585</td>\n",
       "      <td>0</td>\n",
       "      <td>0</td>\n",
       "    </tr>\n",
       "  </tbody>\n",
       "</table>\n",
       "</div>"
      ],
      "text/plain": [
       "     Origin_airport Destination_airport  Fly_date  Passengers  cluster_origin  \\\n",
       "2132            SHV                 MLU         6        4654               0   \n",
       "2134            SHV                 MLU         8        4603               0   \n",
       "2133            SHV                 MLU         7        4564               0   \n",
       "2138            SHV                 MLU        12        3906               0   \n",
       "2129            SHV                 MLU         3        3881               0   \n",
       "1919            PUB                 COS         8        3837               1   \n",
       "1330            MLU                 SHV         7        3758               0   \n",
       "608             COS                 PUB         8        3675               1   \n",
       "2137            SHV                 MLU        11        3611               0   \n",
       "2131            SHV                 MLU         5        3585               0   \n",
       "\n",
       "      cluster_destination  \n",
       "2132                    0  \n",
       "2134                    0  \n",
       "2133                    0  \n",
       "2138                    0  \n",
       "2129                    0  \n",
       "1919                    1  \n",
       "1330                    0  \n",
       "608                     1  \n",
       "2137                    0  \n",
       "2131                    0  "
      ]
     },
     "execution_count": 659,
     "metadata": {},
     "output_type": "execute_result"
    }
   ],
   "source": [
    "merged2.sort_values(['Passengers'], ascending=False).head(10)"
   ]
  },
  {
   "cell_type": "code",
   "execution_count": 142,
   "metadata": {},
   "outputs": [],
   "source": [
    "merged2['color'] = merged2.apply(lambda x: \"red\" if x['cluster_origin'] == x['cluster_destination'] else \"blue\", axis=1)\n",
    "merged2['Origin_airport']      = merged2.apply(lambda x: \"%s_%s\" % (x['Origin_airport'],      x['Fly_date']), axis=1)\n",
    "merged2['Destination_airport'] = merged2.apply(lambda x: \"%s_%s\" % (x['Destination_airport'], x['Fly_date']+1), axis=1)"
   ]
  },
  {
   "cell_type": "code",
   "execution_count": 143,
   "metadata": {},
   "outputs": [],
   "source": [
    "\n",
    "merged2 = merged2[['Origin_airport', 'Destination_airport', 'Passengers', 'color']]\n",
    "merged2.columns = ['origin', 'destination', 'count', 'color']\n",
    "merged2.to_csv('flights.csv', index=False)"
   ]
  },
  {
   "attachments": {},
   "cell_type": "markdown",
   "metadata": {},
   "source": [
    "## Grid Positioning \n",
    "\n",
    "$ (t*c_x, i*c_y)$ where $i \\in [0, N]$  and $t \\in [0, T]$ such that $N$ is number of nodes (e.g. airports) and $T$ is time (e.g. days). \n",
    "\n",
    "$c_x$ and $c_y$ are constants that define the distance distance from origin $(0, 0)$ as well as between other nodes. "
   ]
  },
  {
   "cell_type": "code",
   "execution_count": 144,
   "metadata": {},
   "outputs": [
    {
     "data": {
      "text/plain": [
       "0"
      ]
     },
     "execution_count": 144,
     "metadata": {},
     "output_type": "execute_result"
    }
   ],
   "source": [
    "clusters_series['MLU']"
   ]
  },
  {
   "cell_type": "code",
   "execution_count": 153,
   "metadata": {},
   "outputs": [],
   "source": [
    "locs = []\n",
    "\n",
    "# width = 960\n",
    "# height = 600\n",
    "time_steps = 12*10\n",
    "c_x = 10\n",
    "c_y = 20\n",
    "# for k in airport_encoding:\n",
    "    # i = airport_encoding[k]\n",
    "for i, k in enumerate(clusters_series.index):\n",
    "    for t in range(1, time_steps+2): #list(date_encoding.values()):\n",
    "        locs.append([\"%s_%s\" % (k,t), (t+1)*c_x, (i+1)*c_y, clusters_series[k]])\n",
    "locs_df = pd.DataFrame(locs)\n"
   ]
  },
  {
   "cell_type": "code",
   "execution_count": 154,
   "metadata": {},
   "outputs": [],
   "source": [
    "\n",
    "locs_df.columns = ['iata', 'latitude', 'longitude', 'cluster']\n",
    "\n",
    "cluster_colors = {0: \"red\", 1: \"blue\", 2: \"green\", 3: \"yellow\"}\n",
    "\n",
    "locs_df['color'] = locs_df['cluster'].apply(lambda x: cluster_colors[x])"
   ]
  },
  {
   "cell_type": "code",
   "execution_count": 155,
   "metadata": {},
   "outputs": [
    {
     "data": {
      "text/plain": [
       "cluster\n",
       "0    [MLU, LFT, ESF, AEX, ARA, SHV, BAD, BTR, MSY, ...\n",
       "1                            [PUB, DRO, MTJ, GJT, COS]\n",
       "dtype: object"
      ]
     },
     "execution_count": 155,
     "metadata": {},
     "output_type": "execute_result"
    }
   ],
   "source": [
    "clusters_series.reset_index().groupby('cluster').apply(lambda x: list(x['index'].values))"
   ]
  },
  {
   "cell_type": "code",
   "execution_count": 156,
   "metadata": {},
   "outputs": [],
   "source": [
    "\n",
    "\n",
    "# locs_df['latitude']  = locs_df['latitude']\n",
    "# locs_df['latitude']  = locs_df['latitude']\n",
    "locs_df.to_csv('grid_locs.csv', index=False)"
   ]
  },
  {
   "cell_type": "code",
   "execution_count": null,
   "metadata": {},
   "outputs": [],
   "source": []
  }
 ],
 "metadata": {
  "kernelspec": {
   "display_name": "base",
   "language": "python",
   "name": "python3"
  },
  "language_info": {
   "codemirror_mode": {
    "name": "ipython",
    "version": 3
   },
   "file_extension": ".py",
   "mimetype": "text/x-python",
   "name": "python",
   "nbconvert_exporter": "python",
   "pygments_lexer": "ipython3",
   "version": "3.9.12"
  },
  "orig_nbformat": 4
 },
 "nbformat": 4,
 "nbformat_minor": 2
}
