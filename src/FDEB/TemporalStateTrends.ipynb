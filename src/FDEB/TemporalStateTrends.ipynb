{
 "cells": [
  {
   "cell_type": "code",
   "execution_count": 1,
   "metadata": {},
   "outputs": [],
   "source": [
    "#Imports \n",
    "from matplotlib import pyplot as plt\n",
    "from tqdm import tqdm \n",
    "import pandas as pd "
   ]
  },
  {
   "cell_type": "code",
   "execution_count": 2,
   "metadata": {},
   "outputs": [],
   "source": [
    "#Read data\n",
    "flights = pd.read_csv('../../data/Airports2.csv')"
   ]
  },
  {
   "cell_type": "code",
   "execution_count": 3,
   "metadata": {},
   "outputs": [],
   "source": [
    "flights['Fly_date'] = pd.to_datetime(flights['Fly_date'])"
   ]
  },
  {
   "cell_type": "code",
   "execution_count": 4,
   "metadata": {},
   "outputs": [],
   "source": [
    "flights['dstate'] = flights['Destination_city'].apply(lambda x: x[-2:])\n",
    "flights['ostate'] = flights['Origin_city'].apply(lambda x: x[-2:])"
   ]
  },
  {
   "cell_type": "code",
   "execution_count": 5,
   "metadata": {},
   "outputs": [],
   "source": [
    "state_counts = pd.concat([flights['dstate'].value_counts(), flights['dstate'].value_counts()], axis=1)"
   ]
  },
  {
   "cell_type": "code",
   "execution_count": 6,
   "metadata": {},
   "outputs": [
    {
     "data": {
      "text/html": [
       "<div>\n",
       "<style scoped>\n",
       "    .dataframe tbody tr th:only-of-type {\n",
       "        vertical-align: middle;\n",
       "    }\n",
       "\n",
       "    .dataframe tbody tr th {\n",
       "        vertical-align: top;\n",
       "    }\n",
       "\n",
       "    .dataframe thead th {\n",
       "        text-align: right;\n",
       "    }\n",
       "</style>\n",
       "<table border=\"1\" class=\"dataframe\">\n",
       "  <thead>\n",
       "    <tr style=\"text-align: right;\">\n",
       "      <th></th>\n",
       "      <th>dstate</th>\n",
       "      <th>dstate</th>\n",
       "    </tr>\n",
       "  </thead>\n",
       "  <tbody>\n",
       "    <tr>\n",
       "      <th>TX</th>\n",
       "      <td>336410</td>\n",
       "      <td>336410</td>\n",
       "    </tr>\n",
       "    <tr>\n",
       "      <th>CA</th>\n",
       "      <td>251405</td>\n",
       "      <td>251405</td>\n",
       "    </tr>\n",
       "    <tr>\n",
       "      <th>FL</th>\n",
       "      <td>241308</td>\n",
       "      <td>241308</td>\n",
       "    </tr>\n",
       "    <tr>\n",
       "      <th>IL</th>\n",
       "      <td>207617</td>\n",
       "      <td>207617</td>\n",
       "    </tr>\n",
       "    <tr>\n",
       "      <th>OH</th>\n",
       "      <td>190293</td>\n",
       "      <td>190293</td>\n",
       "    </tr>\n",
       "    <tr>\n",
       "      <th>NY</th>\n",
       "      <td>179115</td>\n",
       "      <td>179115</td>\n",
       "    </tr>\n",
       "    <tr>\n",
       "      <th>PA</th>\n",
       "      <td>179019</td>\n",
       "      <td>179019</td>\n",
       "    </tr>\n",
       "    <tr>\n",
       "      <th>NC</th>\n",
       "      <td>146748</td>\n",
       "      <td>146748</td>\n",
       "    </tr>\n",
       "    <tr>\n",
       "      <th>GA</th>\n",
       "      <td>146614</td>\n",
       "      <td>146614</td>\n",
       "    </tr>\n",
       "    <tr>\n",
       "      <th>MI</th>\n",
       "      <td>139979</td>\n",
       "      <td>139979</td>\n",
       "    </tr>\n",
       "    <tr>\n",
       "      <th>MO</th>\n",
       "      <td>123844</td>\n",
       "      <td>123844</td>\n",
       "    </tr>\n",
       "    <tr>\n",
       "      <th>TN</th>\n",
       "      <td>120000</td>\n",
       "      <td>120000</td>\n",
       "    </tr>\n",
       "    <tr>\n",
       "      <th>MN</th>\n",
       "      <td>106923</td>\n",
       "      <td>106923</td>\n",
       "    </tr>\n",
       "    <tr>\n",
       "      <th>DC</th>\n",
       "      <td>94307</td>\n",
       "      <td>94307</td>\n",
       "    </tr>\n",
       "    <tr>\n",
       "      <th>NJ</th>\n",
       "      <td>88679</td>\n",
       "      <td>88679</td>\n",
       "    </tr>\n",
       "    <tr>\n",
       "      <th>AZ</th>\n",
       "      <td>83655</td>\n",
       "      <td>83655</td>\n",
       "    </tr>\n",
       "    <tr>\n",
       "      <th>NV</th>\n",
       "      <td>83201</td>\n",
       "      <td>83201</td>\n",
       "    </tr>\n",
       "    <tr>\n",
       "      <th>WA</th>\n",
       "      <td>76269</td>\n",
       "      <td>76269</td>\n",
       "    </tr>\n",
       "    <tr>\n",
       "      <th>IN</th>\n",
       "      <td>62719</td>\n",
       "      <td>62719</td>\n",
       "    </tr>\n",
       "    <tr>\n",
       "      <th>MA</th>\n",
       "      <td>57058</td>\n",
       "      <td>57058</td>\n",
       "    </tr>\n",
       "    <tr>\n",
       "      <th>WI</th>\n",
       "      <td>55001</td>\n",
       "      <td>55001</td>\n",
       "    </tr>\n",
       "    <tr>\n",
       "      <th>LA</th>\n",
       "      <td>52474</td>\n",
       "      <td>52474</td>\n",
       "    </tr>\n",
       "    <tr>\n",
       "      <th>MD</th>\n",
       "      <td>48846</td>\n",
       "      <td>48846</td>\n",
       "    </tr>\n",
       "    <tr>\n",
       "      <th>UT</th>\n",
       "      <td>46688</td>\n",
       "      <td>46688</td>\n",
       "    </tr>\n",
       "    <tr>\n",
       "      <th>OR</th>\n",
       "      <td>44359</td>\n",
       "      <td>44359</td>\n",
       "    </tr>\n",
       "    <tr>\n",
       "      <th>AK</th>\n",
       "      <td>38404</td>\n",
       "      <td>38404</td>\n",
       "    </tr>\n",
       "    <tr>\n",
       "      <th>SC</th>\n",
       "      <td>35539</td>\n",
       "      <td>35539</td>\n",
       "    </tr>\n",
       "    <tr>\n",
       "      <th>OK</th>\n",
       "      <td>32984</td>\n",
       "      <td>32984</td>\n",
       "    </tr>\n",
       "    <tr>\n",
       "      <th>AL</th>\n",
       "      <td>29468</td>\n",
       "      <td>29468</td>\n",
       "    </tr>\n",
       "    <tr>\n",
       "      <th>HI</th>\n",
       "      <td>27081</td>\n",
       "      <td>27081</td>\n",
       "    </tr>\n",
       "    <tr>\n",
       "      <th>CT</th>\n",
       "      <td>26513</td>\n",
       "      <td>26513</td>\n",
       "    </tr>\n",
       "    <tr>\n",
       "      <th>NM</th>\n",
       "      <td>25022</td>\n",
       "      <td>25022</td>\n",
       "    </tr>\n",
       "    <tr>\n",
       "      <th>VA</th>\n",
       "      <td>23977</td>\n",
       "      <td>23977</td>\n",
       "    </tr>\n",
       "    <tr>\n",
       "      <th>IA</th>\n",
       "      <td>22212</td>\n",
       "      <td>22212</td>\n",
       "    </tr>\n",
       "    <tr>\n",
       "      <th>AR</th>\n",
       "      <td>20105</td>\n",
       "      <td>20105</td>\n",
       "    </tr>\n",
       "    <tr>\n",
       "      <th>NE</th>\n",
       "      <td>19883</td>\n",
       "      <td>19883</td>\n",
       "    </tr>\n",
       "    <tr>\n",
       "      <th>MT</th>\n",
       "      <td>18954</td>\n",
       "      <td>18954</td>\n",
       "    </tr>\n",
       "    <tr>\n",
       "      <th>RI</th>\n",
       "      <td>16103</td>\n",
       "      <td>16103</td>\n",
       "    </tr>\n",
       "    <tr>\n",
       "      <th>CO</th>\n",
       "      <td>13418</td>\n",
       "      <td>13418</td>\n",
       "    </tr>\n",
       "    <tr>\n",
       "      <th>MS</th>\n",
       "      <td>12563</td>\n",
       "      <td>12563</td>\n",
       "    </tr>\n",
       "    <tr>\n",
       "      <th>KS</th>\n",
       "      <td>12134</td>\n",
       "      <td>12134</td>\n",
       "    </tr>\n",
       "    <tr>\n",
       "      <th>ME</th>\n",
       "      <td>11319</td>\n",
       "      <td>11319</td>\n",
       "    </tr>\n",
       "    <tr>\n",
       "      <th>NH</th>\n",
       "      <td>10794</td>\n",
       "      <td>10794</td>\n",
       "    </tr>\n",
       "    <tr>\n",
       "      <th>SD</th>\n",
       "      <td>10204</td>\n",
       "      <td>10204</td>\n",
       "    </tr>\n",
       "    <tr>\n",
       "      <th>ND</th>\n",
       "      <td>9732</td>\n",
       "      <td>9732</td>\n",
       "    </tr>\n",
       "    <tr>\n",
       "      <th>KY</th>\n",
       "      <td>7198</td>\n",
       "      <td>7198</td>\n",
       "    </tr>\n",
       "    <tr>\n",
       "      <th>VT</th>\n",
       "      <td>5565</td>\n",
       "      <td>5565</td>\n",
       "    </tr>\n",
       "    <tr>\n",
       "      <th>WV</th>\n",
       "      <td>4890</td>\n",
       "      <td>4890</td>\n",
       "    </tr>\n",
       "    <tr>\n",
       "      <th>WY</th>\n",
       "      <td>4863</td>\n",
       "      <td>4863</td>\n",
       "    </tr>\n",
       "    <tr>\n",
       "      <th>ID</th>\n",
       "      <td>4655</td>\n",
       "      <td>4655</td>\n",
       "    </tr>\n",
       "    <tr>\n",
       "      <th>DE</th>\n",
       "      <td>692</td>\n",
       "      <td>692</td>\n",
       "    </tr>\n",
       "  </tbody>\n",
       "</table>\n",
       "</div>"
      ],
      "text/plain": [
       "    dstate  dstate\n",
       "TX  336410  336410\n",
       "CA  251405  251405\n",
       "FL  241308  241308\n",
       "IL  207617  207617\n",
       "OH  190293  190293\n",
       "NY  179115  179115\n",
       "PA  179019  179019\n",
       "NC  146748  146748\n",
       "GA  146614  146614\n",
       "MI  139979  139979\n",
       "MO  123844  123844\n",
       "TN  120000  120000\n",
       "MN  106923  106923\n",
       "DC   94307   94307\n",
       "NJ   88679   88679\n",
       "AZ   83655   83655\n",
       "NV   83201   83201\n",
       "WA   76269   76269\n",
       "IN   62719   62719\n",
       "MA   57058   57058\n",
       "WI   55001   55001\n",
       "LA   52474   52474\n",
       "MD   48846   48846\n",
       "UT   46688   46688\n",
       "OR   44359   44359\n",
       "AK   38404   38404\n",
       "SC   35539   35539\n",
       "OK   32984   32984\n",
       "AL   29468   29468\n",
       "HI   27081   27081\n",
       "CT   26513   26513\n",
       "NM   25022   25022\n",
       "VA   23977   23977\n",
       "IA   22212   22212\n",
       "AR   20105   20105\n",
       "NE   19883   19883\n",
       "MT   18954   18954\n",
       "RI   16103   16103\n",
       "CO   13418   13418\n",
       "MS   12563   12563\n",
       "KS   12134   12134\n",
       "ME   11319   11319\n",
       "NH   10794   10794\n",
       "SD   10204   10204\n",
       "ND    9732    9732\n",
       "KY    7198    7198\n",
       "VT    5565    5565\n",
       "WV    4890    4890\n",
       "WY    4863    4863\n",
       "ID    4655    4655\n",
       "DE     692     692"
      ]
     },
     "execution_count": 6,
     "metadata": {},
     "output_type": "execute_result"
    }
   ],
   "source": [
    "state_counts"
   ]
  },
  {
   "cell_type": "code",
   "execution_count": 7,
   "metadata": {},
   "outputs": [],
   "source": [
    "flights['month'] = flights['Fly_date'].dt.month\n",
    "flights['year'] = flights['Fly_date'].dt.year"
   ]
  },
  {
   "cell_type": "code",
   "execution_count": 8,
   "metadata": {},
   "outputs": [
    {
     "data": {
      "text/plain": [
       "COS    9089\n",
       "GJT    1854\n",
       "DRO     985\n",
       "PUB     740\n",
       "MTJ     737\n",
       "AMK      12\n",
       "STK       1\n",
       "Name: Destination_airport, dtype: int64"
      ]
     },
     "execution_count": 8,
     "metadata": {},
     "output_type": "execute_result"
    }
   ],
   "source": [
    "fl = flights.loc[flights['dstate']=='CO', 'Destination_airport']\n",
    "\n",
    "fl.value_counts()[:10]"
   ]
  },
  {
   "cell_type": "code",
   "execution_count": 15,
   "metadata": {},
   "outputs": [
    {
     "data": {
      "text/plain": [
       "array(['HUM', 'MLU', 'RSN', 'LFT', 'ESF', 'AEX', 'ARA', 'SHV', 'BAD',\n",
       "       'DTN', 'BTR', 'MSY', 'NEW', 'NBG', 'LCH', 'WQM'], dtype=object)"
      ]
     },
     "execution_count": 15,
     "metadata": {},
     "output_type": "execute_result"
    }
   ],
   "source": [
    "flights.loc[flights['dstate']=='LA', 'Destination_airport'].unique()"
   ]
  },
  {
   "cell_type": "code",
   "execution_count": 16,
   "metadata": {},
   "outputs": [
    {
     "data": {
      "text/plain": [
       "array(['PUB', 'DRO', 'AMK', 'MTJ', 'STK', 'GJT', 'COS'], dtype=object)"
      ]
     },
     "execution_count": 16,
     "metadata": {},
     "output_type": "execute_result"
    }
   ],
   "source": [
    "flights.loc[flights['dstate']=='CO', 'Destination_airport'].unique()"
   ]
  },
  {
   "cell_type": "code",
   "execution_count": 10,
   "metadata": {},
   "outputs": [
    {
     "data": {
      "application/vnd.jupyter.widget-view+json": {
       "model_id": "409d2c353904427392682d79b52ff81d",
       "version_major": 2,
       "version_minor": 0
      },
      "text/plain": [
       "interactive(children=(Text(value='FL', description='state'), Output()), _dom_classes=('widget-interact',))"
      ]
     },
     "metadata": {},
     "output_type": "display_data"
    },
    {
     "data": {
      "text/plain": [
       "<function __main__.plot_state_trends(state)>"
      ]
     },
     "execution_count": 10,
     "metadata": {},
     "output_type": "execute_result"
    },
    {
     "data": {
      "image/png": "[encoded data removed]",
      "text/plain": [
       "<Figure size 1440x360 with 3 Axes>"
      ]
     },
     "metadata": {
      "needs_background": "light"
     },
     "output_type": "display_data"
    },
    {
     "data": {
      "image/png": "[encoded data removed]",
      "text/plain": [
       "<Figure size 1440x360 with 3 Axes>"
      ]
     },
     "metadata": {
      "needs_background": "light"
     },
     "output_type": "display_data"
    },
    {
     "data": {
      "image/png": "[encoded data removed]",
      "text/plain": [
       "<Figure size 1440x360 with 3 Axes>"
      ]
     },
     "metadata": {
      "needs_background": "light"
     },
     "output_type": "display_data"
    },
    {
     "data": {
      "image/png": "[encoded data removed]",
      "text/plain": [
       "<Figure size 1440x360 with 3 Axes>"
      ]
     },
     "metadata": {
      "needs_background": "light"
     },
     "output_type": "display_data"
    },
    {
     "data": {
      "image/png": "[encoded data removed]",
      "text/plain": [
       "<Figure size 1440x360 with 3 Axes>"
      ]
     },
     "metadata": {
      "needs_background": "light"
     },
     "output_type": "display_data"
    },
    {
     "data": {
      "image/png": "[encoded data removed]",
      "text/plain": [
       "<Figure size 1440x360 with 3 Axes>"
      ]
     },
     "metadata": {
      "needs_background": "light"
     },
     "output_type": "display_data"
    },
    {
     "data": {
      "image/png": "[encoded data removed]",
      "text/plain": [
       "<Figure size 1440x360 with 3 Axes>"
      ]
     },
     "metadata": {
      "needs_background": "light"
     },
     "output_type": "display_data"
    }
   ],
   "source": [
    "from ipywidgets import interact, interactive, fixed, interact_manual\n",
    "import ipywidgets as widgets\n",
    "\n",
    "def plot_state_trends(state):\n",
    "\n",
    "    plt.close()\n",
    "\n",
    "    filtered = flights[flights['year'] == 1990]\n",
    "\n",
    "    filtered = filtered[filtered['ostate'] == state]\n",
    "\n",
    "    top10 = filtered['Destination_airport'].value_counts()[:10].index\n",
    "\n",
    "    sums = filtered.groupby(['year', 'month']).sum().reset_index()\n",
    "\n",
    "    fcount      = sums.groupby('month').apply(lambda x: pd.Series({'mean': x['Flights'].mean(), 'sem': x['Flights'].sem()}))\n",
    "    passcount   = sums.groupby('month').apply(lambda x: pd.Series({'mean': x['Passengers'].mean(), 'sem': x['Passengers'].sem()}))\n",
    "    seatcount   = sums.groupby('month').apply(lambda x: pd.Series({'mean': x['Seats'].mean(), 'sem': x['Seats'].sem()}))\n",
    "\n",
    "    fig, axs = plt.subplots(1, 3, figsize=(20, 5))\n",
    "\n",
    "    months = ['Jan', 'Feb', 'Mar', 'Apr', 'May', 'Jun', 'Jul', 'Aug', 'Sep', 'Oct', 'Nov', 'Dec']\n",
    "    axs[0].errorbar(x=fcount.index, y=fcount['mean'], marker='s', yerr=fcount['sem'])\n",
    "    axs[0].set_xticks(range(1, 13), months);\n",
    "    axs[0].set_title('Flights counts for %s' % state);\n",
    "    axs[0].grid()\n",
    "\n",
    "    axs[1].errorbar(x=fcount.index, y=passcount['mean'], marker='s', yerr=passcount['sem'])\n",
    "    axs[1].set_xticks(range(1, 13), months);\n",
    "    axs[1].set_title('Passengers counts for %s' % state);\n",
    "    axs[1].grid()\n",
    "\n",
    "    axs[2].errorbar(x=fcount.index, y=seatcount['mean'], marker='s', yerr=seatcount['sem'])\n",
    "    axs[2].set_xticks(range(1, 13), months);\n",
    "    axs[2].set_title('Seats counts for %s' % state);\n",
    "    axs[2].grid()\n",
    "\n",
    "interact(plot_state_trends, state='FL')"
   ]
  },
  {
   "cell_type": "code",
   "execution_count": null,
   "metadata": {},
   "outputs": [],
   "source": []
  }
 ],
 "metadata": {
  "kernelspec": {
   "display_name": "base",
   "language": "python",
   "name": "python3"
  },
  "language_info": {
   "codemirror_mode": {
    "name": "ipython",
    "version": 3
   },
   "file_extension": ".py",
   "mimetype": "text/x-python",
   "name": "python",
   "nbconvert_exporter": "python",
   "pygments_lexer": "ipython3",
   "version": "3.9.12"
  },
  "orig_nbformat": 4
 },
 "nbformat": 4,
 "nbformat_minor": 2
}
