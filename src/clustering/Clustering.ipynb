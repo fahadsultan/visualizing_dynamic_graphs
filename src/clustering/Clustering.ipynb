{
 "cells": [
  {
   "cell_type": "code",
   "execution_count": 1,
   "metadata": {},
   "outputs": [],
   "source": [
    "from tqdm import tqdm \n",
    "import pandas as pd \n",
    "\n",
    "airports     = pd.read_csv('../../data/us_large_airports.csv')\n",
    "big_airports =   set(airports['iata_code'].unique()) # {'ATL', 'JFK', 'LAX', 'ORD'} \n",
    "\n",
    "flights  = pd.read_csv('../../data/Airports2.csv', usecols=['Origin_airport', 'Destination_airport', 'Origin_city', 'Destination_city', 'Fly_date'])\n",
    "flights = flights[flights.apply(lambda x: (x['Origin_airport'] in big_airports) and (x['Destination_airport'] in big_airports), axis=1)]\n",
    "flights  = flights.drop_duplicates()\n",
    "\n",
    "flights['Fly_date'] = pd.to_datetime(flights['Fly_date'])               \n",
    "\n",
    "flights.sort_values(by=['Fly_date'], inplace=True)"
   ]
  }
 ],
 "metadata": {
  "kernelspec": {
   "display_name": "base",
   "language": "python",
   "name": "python3"
  },
  "language_info": {
   "codemirror_mode": {
    "name": "ipython",
    "version": 3
   },
   "file_extension": ".py",
   "mimetype": "text/x-python",
   "name": "python",
   "nbconvert_exporter": "python",
   "pygments_lexer": "ipython3",
   "version": "3.9.12"
  },
  "orig_nbformat": 4
 },
 "nbformat": 4,
 "nbformat_minor": 2
}
