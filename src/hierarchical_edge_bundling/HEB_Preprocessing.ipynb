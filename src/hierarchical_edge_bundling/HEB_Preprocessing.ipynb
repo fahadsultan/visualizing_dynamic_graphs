{
 "cells": [
  {
   "cell_type": "code",
   "execution_count": 220,
   "metadata": {},
   "outputs": [],
   "source": [
    "from tqdm import tqdm \n",
    "import pandas as pd \n",
    "\n",
    "airports     = pd.read_csv('../../data/us_large_airports.csv')\n",
    "airports     = airports[airports['type'] == 'large_airport']\n",
    "big_airports =  list(set(airports['iata_code'].dropna().unique()))[:35]  #{'ATL', 'JFK', 'LAX', 'ORD'}\n",
    "\n",
    "flights  = pd.read_csv('../../data/Airports2.csv', usecols=['Origin_airport', 'Destination_airport', 'Origin_city', 'Destination_city', 'Fly_date'])\n",
    "flights = flights[flights.apply(lambda x: (x['Origin_airport'] in big_airports) and (x['Destination_airport'] in big_airports), axis=1)]\n",
    "flights  = flights.drop_duplicates()\n",
    "\n",
    "flights['Fly_date'] = pd.to_datetime(flights['Fly_date'])               \n",
    "\n",
    "flights.sort_values(by=['Fly_date'], inplace=True)\n",
    "\n",
    "flights.drop(columns=['Origin_city', 'Destination_city'], inplace=True)\n",
    "flights.reset_index(drop=True, inplace=True)\n",
    "\n",
    "T = flights['Fly_date'].unique()\n",
    "date_encoding = {v:i for i, v in enumerate(T)}\n",
    "airport_encoding = {airport:i for i, airport in enumerate(big_airports)}"
   ]
  },
  {
   "attachments": {},
   "cell_type": "markdown",
   "metadata": {},
   "source": [
    "## Node Positioning"
   ]
  },
  {
   "cell_type": "code",
   "execution_count": 248,
   "metadata": {},
   "outputs": [
    {
     "data": {
      "text/plain": [
       "(35, (31, 31))"
      ]
     },
     "execution_count": 248,
     "metadata": {},
     "output_type": "execute_result"
    }
   ],
   "source": [
    "len(big_airports), matrix.shape"
   ]
  },
  {
   "cell_type": "code",
   "execution_count": 249,
   "metadata": {},
   "outputs": [
    {
     "name": "stderr",
     "output_type": "stream",
     "text": [
      "100%|██████████| 126739/126739 [00:15<00:00, 8431.60it/s]\n"
     ]
    }
   ],
   "source": [
    "# origins = flights['Origin_airport'].unique()\n",
    "# destinations = flights['Destination_airport'].unique()\n",
    "\n",
    "matrix = pd.DataFrame(0, index=big_airports, columns=big_airports)\n",
    "for i in tqdm(range(len(flights))):\n",
    "    row = flights.iloc[i]\n",
    "    matrix.loc[row['Origin_airport'], row['Destination_airport']] += 1"
   ]
  },
  {
   "cell_type": "code",
   "execution_count": 293,
   "metadata": {},
   "outputs": [],
   "source": [
    "from sklearn.cluster import AgglomerativeClustering\n",
    "sc = AgglomerativeClustering(n_clusters=5)\n",
    "clusters = sc.fit_predict(matrix)"
   ]
  },
  {
   "cell_type": "code",
   "execution_count": 294,
   "metadata": {},
   "outputs": [
    {
     "data": {
      "image/png": "[encoded data removed]",
      "text/plain": [
       "<Figure size 432x288 with 1 Axes>"
      ]
     },
     "metadata": {
      "needs_background": "light"
     },
     "output_type": "display_data"
    }
   ],
   "source": [
    "from sklearn.decomposition import PCA\n",
    "from matplotlib import pyplot as plt \n",
    "\n",
    "pca = PCA(n_components=2)\n",
    "\n",
    "reduced = pca.fit_transform(matrix)\n",
    "reduced = pd.DataFrame(reduced)\n",
    "\n",
    "plt.scatter(reduced[0], reduced[1], c=clusters);"
   ]
  },
  {
   "cell_type": "code",
   "execution_count": 295,
   "metadata": {},
   "outputs": [],
   "source": [
    "clusters\n",
    "\n",
    "clusters_dict = dict(zip(big_airports,clusters))"
   ]
  },
  {
   "cell_type": "code",
   "execution_count": 296,
   "metadata": {},
   "outputs": [],
   "source": [
    "#Sort big airports by cluster\n",
    "# big_airports = list(big_airports)\n",
    "big_airports.sort(key=lambda x: clusters_dict[x])"
   ]
  },
  {
   "cell_type": "code",
   "execution_count": 285,
   "metadata": {},
   "outputs": [
    {
     "data": {
      "text/plain": [
       "{'BNA': 0,\n",
       " 'SAN': 0,\n",
       " 'SDF': 1,\n",
       " 'SMF': 1,\n",
       " 'ADW': 1,\n",
       " 'BOS': 0,\n",
       " 'ONT': 1,\n",
       " 'ORD': 0,\n",
       " 'JAX': 2,\n",
       " 'MSP': 0,\n",
       " 'CLT': 0,\n",
       " 'IAD': 0,\n",
       " 'MDW': 0,\n",
       " 'AUS': 1,\n",
       " 'SAV': 2,\n",
       " 'SEA': 0,\n",
       " 'FAI': 1,\n",
       " 'RDU': 2,\n",
       " 'LGA': 0,\n",
       " 'ANC': 1,\n",
       " 'SLC': 0,\n",
       " 'RNO': 1,\n",
       " 'RSW': 1,\n",
       " 'LAX': 0,\n",
       " 'PHL': 0,\n",
       " 'SAT': 1,\n",
       " 'TPA': 0,\n",
       " 'SYR': 2,\n",
       " 'PWM': 2,\n",
       " 'DCA': 0,\n",
       " 'CLE': 0,\n",
       " 'DFW': 0,\n",
       " 'MCI': 0,\n",
       " 'MEM': 0,\n",
       " 'DTW': 0}"
      ]
     },
     "execution_count": 285,
     "metadata": {},
     "output_type": "execute_result"
    }
   ],
   "source": [
    "clusters_dict"
   ]
  },
  {
   "cell_type": "code",
   "execution_count": 284,
   "metadata": {},
   "outputs": [
    {
     "data": {
      "text/plain": [
       "Index(['BNA', 'SAN', 'SDF', 'SMF', 'ADW', 'BOS', 'ONT', 'ORD', 'JAX', 'MSP',\n",
       "       'CLT', 'IAD', 'MDW', 'AUS', 'SAV', 'SEA', 'FAI', 'RDU', 'LGA', 'ANC',\n",
       "       'SLC', 'RNO', 'RSW', 'LAX', 'PHL', 'SAT', 'TPA', 'SYR', 'PWM', 'DCA',\n",
       "       'CLE', 'DFW', 'MCI', 'MEM', 'DTW'],\n",
       "      dtype='object')"
      ]
     },
     "execution_count": 284,
     "metadata": {},
     "output_type": "execute_result"
    }
   ],
   "source": [
    "matrix.index"
   ]
  },
  {
   "cell_type": "code",
   "execution_count": 283,
   "metadata": {},
   "outputs": [
    {
     "data": {
      "text/plain": [
       "['BNA',\n",
       " 'SAN',\n",
       " 'BOS',\n",
       " 'ORD',\n",
       " 'MSP',\n",
       " 'CLT',\n",
       " 'IAD',\n",
       " 'MDW',\n",
       " 'SEA',\n",
       " 'LGA',\n",
       " 'SLC',\n",
       " 'LAX',\n",
       " 'PHL',\n",
       " 'TPA',\n",
       " 'DCA',\n",
       " 'CLE',\n",
       " 'DFW',\n",
       " 'MCI',\n",
       " 'MEM',\n",
       " 'DTW',\n",
       " 'SDF',\n",
       " 'SMF',\n",
       " 'ADW',\n",
       " 'ONT',\n",
       " 'AUS',\n",
       " 'FAI',\n",
       " 'ANC',\n",
       " 'RNO',\n",
       " 'RSW',\n",
       " 'SAT',\n",
       " 'JAX',\n",
       " 'SAV',\n",
       " 'RDU',\n",
       " 'SYR',\n",
       " 'PWM']"
      ]
     },
     "execution_count": 283,
     "metadata": {},
     "output_type": "execute_result"
    }
   ],
   "source": [
    "big_airports"
   ]
  },
  {
   "attachments": {},
   "cell_type": "markdown",
   "metadata": {},
   "source": [
    "## Flights for airport grid"
   ]
  },
  {
   "cell_type": "code",
   "execution_count": 214,
   "metadata": {},
   "outputs": [],
   "source": [
    "time_steps = 12"
   ]
  },
  {
   "cell_type": "code",
   "execution_count": 215,
   "metadata": {},
   "outputs": [],
   "source": [
    "flights['Fly_date'].replace(date_encoding, inplace=True)"
   ]
  },
  {
   "cell_type": "code",
   "execution_count": 216,
   "metadata": {},
   "outputs": [],
   "source": [
    "flights['Origin_airport']      = flights.apply(lambda x: \"%s_%s\" % (x['Origin_airport'],      x['Fly_date']), axis=1)\n",
    "flights['Destination_airport'] = flights.apply(lambda x: \"%s_%s\" % (x['Destination_airport'], x['Fly_date']+1), axis=1)\n",
    "\n",
    "filtered = flights[flights['Fly_date'].apply(lambda x: x in range(time_steps))]\n",
    "filtered.columns = ['origin', 'destination', 'count']\n",
    "filtered.to_csv('flights.csv', index=False)"
   ]
  },
  {
   "attachments": {},
   "cell_type": "markdown",
   "metadata": {},
   "source": [
    "## Grid Positioning \n",
    "\n",
    "$ (t*c_x, i*c_y)$ where $i \\in [0, N]$  and $t \\in [0, T]$ such that $N$ is number of nodes (e.g. airports) and $T$ is time (e.g. days). \n",
    "\n",
    "$c_x$ and $c_y$ are constants that define the distance distance from origin $(0, 0)$ as well as between other nodes. "
   ]
  },
  {
   "cell_type": "code",
   "execution_count": 292,
   "metadata": {},
   "outputs": [],
   "source": [
    "locs = []\n",
    "\n",
    "# width = 960\n",
    "# height = 600\n",
    "\n",
    "c_x = 100\n",
    "c_y = 20\n",
    "# for k in airport_encoding:\n",
    "    # i = airport_encoding[k]\n",
    "for i, k in enumerate(big_airports):\n",
    "    for t in range(time_steps+1): #list(date_encoding.values()):\n",
    "        locs.append([\"%s_%s\" % (k,t), (t+1)*c_x, (i+1)*c_y, clusters_dict[k]])\n",
    "\n",
    "locs_df = pd.DataFrame(locs)\n",
    "locs_df.columns = ['iata', 'latitude', 'longitude', 'cluster']\n",
    "# locs_df['latitude']  = locs_df['latitude']\n",
    "# locs_df['latitude']  = locs_df['latitude']\n",
    "locs_df.to_csv('grid_locs.csv', index=False)"
   ]
  },
  {
   "cell_type": "code",
   "execution_count": 291,
   "metadata": {},
   "outputs": [
    {
     "data": {
      "text/plain": [
       "2"
      ]
     },
     "execution_count": 291,
     "metadata": {},
     "output_type": "execute_result"
    }
   ],
   "source": [
    "clusters_dict[k]"
   ]
  }
 ],
 "metadata": {
  "kernelspec": {
   "display_name": "base",
   "language": "python",
   "name": "python3"
  },
  "language_info": {
   "codemirror_mode": {
    "name": "ipython",
    "version": 3
   },
   "file_extension": ".py",
   "mimetype": "text/x-python",
   "name": "python",
   "nbconvert_exporter": "python",
   "pygments_lexer": "ipython3",
   "version": "3.9.12"
  },
  "orig_nbformat": 4
 },
 "nbformat": 4,
 "nbformat_minor": 2
}
