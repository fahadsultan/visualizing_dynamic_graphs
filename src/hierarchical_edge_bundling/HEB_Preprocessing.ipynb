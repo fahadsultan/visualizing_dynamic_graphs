{
 "cells": [
  {
   "cell_type": "code",
   "execution_count": 611,
   "metadata": {},
   "outputs": [],
   "source": [
    "#Imports \n",
    "from matplotlib import pyplot as plt\n",
    "from tqdm import tqdm \n",
    "import pandas as pd "
   ]
  },
  {
   "cell_type": "code",
   "execution_count": 612,
   "metadata": {},
   "outputs": [],
   "source": [
    "#Read data\n",
    "flights = pd.read_csv('../../data/Airports2.csv')"
   ]
  },
  {
   "cell_type": "code",
   "execution_count": 613,
   "metadata": {},
   "outputs": [],
   "source": [
    "flights['Fly_date'] = pd.to_datetime(flights['Fly_date'])"
   ]
  },
  {
   "cell_type": "code",
   "execution_count": 614,
   "metadata": {},
   "outputs": [],
   "source": [
    "flights['dstate'] = flights['Destination_city'].apply(lambda x: x[-2:])\n",
    "flights['ostate'] = flights['Origin_city'].apply(lambda x: x[-2:])"
   ]
  },
  {
   "cell_type": "code",
   "execution_count": 615,
   "metadata": {},
   "outputs": [],
   "source": [
    "flights['month'] = flights['Fly_date'].dt.month\n",
    "flights['year'] = flights['Fly_date'].dt.year"
   ]
  },
  {
   "cell_type": "code",
   "execution_count": 617,
   "metadata": {},
   "outputs": [],
   "source": [
    "# clusters_series = {'PUB': 1, 'DRO':1, 'AMK': 1, ''}"
   ]
  },
  {
   "cell_type": "code",
   "execution_count": 618,
   "metadata": {},
   "outputs": [],
   "source": [
    "# Get top airports\n",
    "all_airports     = pd.concat([flights['Origin_airport'], flights['Destination_airport']])\n",
    "# top_airports     = list(all_airports.value_counts().head(30).index)\n",
    "top_airports     = list(flights.loc[flights['dstate'].apply(lambda x: x in ['CO', 'LA']), 'Destination_airport'].unique())\n",
    "airport_encoding = {airport:i for i, airport in enumerate(top_airports)}"
   ]
  },
  {
   "cell_type": "code",
   "execution_count": 619,
   "metadata": {},
   "outputs": [],
   "source": [
    "# Only flights from top airports\n",
    "flights = flights[flights.apply(lambda x: (x['Origin_airport'] in top_airports) and (x['Destination_airport'] in top_airports), axis=1)]"
   ]
  },
  {
   "cell_type": "code",
   "execution_count": 620,
   "metadata": {},
   "outputs": [],
   "source": [
    "# Aggregate (sum) passengers, flights and distance\n",
    "tmp   = flights.groupby(['Origin_airport', 'Destination_airport', 'Fly_date'])\n",
    "sums  = tmp.sum().reset_index()\n",
    "sums  = sums[sums['Distance'] > 0]"
   ]
  },
  {
   "cell_type": "code",
   "execution_count": null,
   "metadata": {},
   "outputs": [],
   "source": [
    "# Filter one year of data\n",
    "\n",
    "new_flights  = sums[['Origin_airport', 'Destination_airport', 'Fly_date', 'Passengers']]\n",
    "\n",
    "new_flights['Fly_date'] = new_flights['Fly_date'].apply(pd.to_datetime)\n",
    "# new_flights.sort_values(by=['Fly_date'], inplace=True)\n",
    "new_flights.reset_index(drop=True, inplace=True)"
   ]
  },
  {
   "cell_type": "code",
   "execution_count": 644,
   "metadata": {},
   "outputs": [],
   "source": [
    "one_year = new_flights[new_flights['Fly_date'].apply(lambda x: x.year == 1990)]\n",
    "T = sorted(one_year['Fly_date'].unique())\n",
    "date_encoding = {v:i for i, v in enumerate(T)}"
   ]
  },
  {
   "attachments": {},
   "cell_type": "markdown",
   "metadata": {},
   "source": [
    "## Node Positioning"
   ]
  },
  {
   "attachments": {},
   "cell_type": "markdown",
   "metadata": {},
   "source": [
    "Create a static adjacency matrix for the graph.\n"
   ]
  },
  {
   "cell_type": "code",
   "execution_count": 647,
   "metadata": {},
   "outputs": [
    {
     "name": "stderr",
     "output_type": "stream",
     "text": [
      "100%|██████████| 150/150 [00:00<00:00, 6723.15it/s]\n"
     ]
    }
   ],
   "source": [
    "matrix = pd.DataFrame(0, index=top_airports, columns=top_airports)\n",
    "for i in tqdm(range(len(one_year))):\n",
    "    row = one_year.iloc[i]\n",
    "    matrix.loc[row['Origin_airport'], row['Destination_airport']] += row['Passengers']"
   ]
  },
  {
   "cell_type": "code",
   "execution_count": 648,
   "metadata": {},
   "outputs": [],
   "source": [
    "#Clustering (static adjacency matrix)\n",
    "\n",
    "from sklearn.cluster import AgglomerativeClustering, KMeans\n",
    "# sc = AgglomerativeClustering(n_clusters=3)\n",
    "sc = KMeans(n_clusters=2, random_state=42)\n",
    "clusters = sc.fit_predict(matrix)"
   ]
  },
  {
   "cell_type": "code",
   "execution_count": 649,
   "metadata": {},
   "outputs": [
    {
     "data": {
      "image/png": "[encoded data removed]",
      "text/plain": [
       "<Figure size 432x288 with 2 Axes>"
      ]
     },
     "metadata": {
      "needs_background": "light"
     },
     "output_type": "display_data"
    }
   ],
   "source": [
    "# Dimensionality reduction to 2-dimensional space \n",
    "# for visualization of clusters\n",
    "\n",
    "from sklearn.decomposition import PCA\n",
    "pca = PCA(n_components=2, random_state=42)\n",
    "reduced = pca.fit_transform(matrix)\n",
    "reduced = pd.DataFrame(reduced)\n",
    "plt.scatter(reduced[0], reduced[1], c=clusters);\n",
    "plt.colorbar();"
   ]
  },
  {
   "cell_type": "code",
   "execution_count": 650,
   "metadata": {},
   "outputs": [],
   "source": [
    "# Creating a mapping between airports and clusters\n",
    "\n",
    "clusters_dict = dict(zip(matrix.index,clusters))\n",
    "clusters_series = pd.Series(clusters_dict).sort_values()\n",
    "clusters_series.name = 'cluster'\n",
    "\n",
    "la_airs = flights.loc[flights['dstate']=='LA', 'Destination_airport'].unique()\n",
    "co_airs = flights.loc[flights['dstate']=='CO', 'Destination_airport'].unique()\n",
    "\n",
    "clusters = {air: 0 for air in la_airs}\n",
    "clusters.update({air: 1 for air in co_airs})\n",
    "clusters_series = pd.Series(clusters)\n",
    "clusters_series.name = 'cluster'"
   ]
  },
  {
   "cell_type": "code",
   "execution_count": 651,
   "metadata": {},
   "outputs": [
    {
     "ename": "KeyError",
     "evalue": "'HUM'",
     "output_type": "error",
     "traceback": [
      "\u001b[0;31m---------------------------------------------------------------------------\u001b[0m",
      "\u001b[0;31mKeyError\u001b[0m                                  Traceback (most recent call last)",
      "File \u001b[0;32m~/opt/anaconda3/lib/python3.9/site-packages/pandas/core/indexes/base.py:3621\u001b[0m, in \u001b[0;36mIndex.get_loc\u001b[0;34m(self, key, method, tolerance)\u001b[0m\n\u001b[1;32m   3620\u001b[0m \u001b[39mtry\u001b[39;00m:\n\u001b[0;32m-> 3621\u001b[0m     \u001b[39mreturn\u001b[39;00m \u001b[39mself\u001b[39;49m\u001b[39m.\u001b[39;49m_engine\u001b[39m.\u001b[39;49mget_loc(casted_key)\n\u001b[1;32m   3622\u001b[0m \u001b[39mexcept\u001b[39;00m \u001b[39mKeyError\u001b[39;00m \u001b[39mas\u001b[39;00m err:\n",
      "File \u001b[0;32m~/opt/anaconda3/lib/python3.9/site-packages/pandas/_libs/index.pyx:136\u001b[0m, in \u001b[0;36mpandas._libs.index.IndexEngine.get_loc\u001b[0;34m()\u001b[0m\n",
      "File \u001b[0;32m~/opt/anaconda3/lib/python3.9/site-packages/pandas/_libs/index.pyx:163\u001b[0m, in \u001b[0;36mpandas._libs.index.IndexEngine.get_loc\u001b[0;34m()\u001b[0m\n",
      "File \u001b[0;32mpandas/_libs/hashtable_class_helper.pxi:5198\u001b[0m, in \u001b[0;36mpandas._libs.hashtable.PyObjectHashTable.get_item\u001b[0;34m()\u001b[0m\n",
      "File \u001b[0;32mpandas/_libs/hashtable_class_helper.pxi:5206\u001b[0m, in \u001b[0;36mpandas._libs.hashtable.PyObjectHashTable.get_item\u001b[0;34m()\u001b[0m\n",
      "\u001b[0;31mKeyError\u001b[0m: 'HUM'",
      "\nThe above exception was the direct cause of the following exception:\n",
      "\u001b[0;31mKeyError\u001b[0m                                  Traceback (most recent call last)",
      "\u001b[1;32m/Users/fsultan/Downloads/visualizing_dynamic_graphs/src/hierarchical_edge_bundling/HEB_Preprocessing.ipynb Cell 18\u001b[0m in \u001b[0;36m<cell line: 3>\u001b[0;34m()\u001b[0m\n\u001b[1;32m      <a href='vscode-notebook-cell:/Users/fsultan/Downloads/visualizing_dynamic_graphs/src/hierarchical_edge_bundling/HEB_Preprocessing.ipynb#W6sZmlsZQ%3D%3D?line=0'>1</a>\u001b[0m \u001b[39m# Sorting top airports by their cluster number \u001b[39;00m\n\u001b[0;32m----> <a href='vscode-notebook-cell:/Users/fsultan/Downloads/visualizing_dynamic_graphs/src/hierarchical_edge_bundling/HEB_Preprocessing.ipynb#W6sZmlsZQ%3D%3D?line=2'>3</a>\u001b[0m top_airports\u001b[39m.\u001b[39;49msort(key\u001b[39m=\u001b[39;49m\u001b[39mlambda\u001b[39;49;00m x: clusters_series\u001b[39m.\u001b[39;49mloc[x])\n",
      "\u001b[1;32m/Users/fsultan/Downloads/visualizing_dynamic_graphs/src/hierarchical_edge_bundling/HEB_Preprocessing.ipynb Cell 18\u001b[0m in \u001b[0;36m<lambda>\u001b[0;34m(x)\u001b[0m\n\u001b[1;32m      <a href='vscode-notebook-cell:/Users/fsultan/Downloads/visualizing_dynamic_graphs/src/hierarchical_edge_bundling/HEB_Preprocessing.ipynb#W6sZmlsZQ%3D%3D?line=0'>1</a>\u001b[0m \u001b[39m# Sorting top airports by their cluster number \u001b[39;00m\n\u001b[0;32m----> <a href='vscode-notebook-cell:/Users/fsultan/Downloads/visualizing_dynamic_graphs/src/hierarchical_edge_bundling/HEB_Preprocessing.ipynb#W6sZmlsZQ%3D%3D?line=2'>3</a>\u001b[0m top_airports\u001b[39m.\u001b[39msort(key\u001b[39m=\u001b[39m\u001b[39mlambda\u001b[39;00m x: clusters_series\u001b[39m.\u001b[39;49mloc[x])\n",
      "File \u001b[0;32m~/opt/anaconda3/lib/python3.9/site-packages/pandas/core/indexing.py:967\u001b[0m, in \u001b[0;36m_LocationIndexer.__getitem__\u001b[0;34m(self, key)\u001b[0m\n\u001b[1;32m    964\u001b[0m axis \u001b[39m=\u001b[39m \u001b[39mself\u001b[39m\u001b[39m.\u001b[39maxis \u001b[39mor\u001b[39;00m \u001b[39m0\u001b[39m\n\u001b[1;32m    966\u001b[0m maybe_callable \u001b[39m=\u001b[39m com\u001b[39m.\u001b[39mapply_if_callable(key, \u001b[39mself\u001b[39m\u001b[39m.\u001b[39mobj)\n\u001b[0;32m--> 967\u001b[0m \u001b[39mreturn\u001b[39;00m \u001b[39mself\u001b[39;49m\u001b[39m.\u001b[39;49m_getitem_axis(maybe_callable, axis\u001b[39m=\u001b[39;49maxis)\n",
      "File \u001b[0;32m~/opt/anaconda3/lib/python3.9/site-packages/pandas/core/indexing.py:1202\u001b[0m, in \u001b[0;36m_LocIndexer._getitem_axis\u001b[0;34m(self, key, axis)\u001b[0m\n\u001b[1;32m   1200\u001b[0m \u001b[39m# fall thru to straight lookup\u001b[39;00m\n\u001b[1;32m   1201\u001b[0m \u001b[39mself\u001b[39m\u001b[39m.\u001b[39m_validate_key(key, axis)\n\u001b[0;32m-> 1202\u001b[0m \u001b[39mreturn\u001b[39;00m \u001b[39mself\u001b[39;49m\u001b[39m.\u001b[39;49m_get_label(key, axis\u001b[39m=\u001b[39;49maxis)\n",
      "File \u001b[0;32m~/opt/anaconda3/lib/python3.9/site-packages/pandas/core/indexing.py:1153\u001b[0m, in \u001b[0;36m_LocIndexer._get_label\u001b[0;34m(self, label, axis)\u001b[0m\n\u001b[1;32m   1151\u001b[0m \u001b[39mdef\u001b[39;00m \u001b[39m_get_label\u001b[39m(\u001b[39mself\u001b[39m, label, axis: \u001b[39mint\u001b[39m):\n\u001b[1;32m   1152\u001b[0m     \u001b[39m# GH#5667 this will fail if the label is not present in the axis.\u001b[39;00m\n\u001b[0;32m-> 1153\u001b[0m     \u001b[39mreturn\u001b[39;00m \u001b[39mself\u001b[39;49m\u001b[39m.\u001b[39;49mobj\u001b[39m.\u001b[39;49mxs(label, axis\u001b[39m=\u001b[39;49maxis)\n",
      "File \u001b[0;32m~/opt/anaconda3/lib/python3.9/site-packages/pandas/core/generic.py:3864\u001b[0m, in \u001b[0;36mNDFrame.xs\u001b[0;34m(self, key, axis, level, drop_level)\u001b[0m\n\u001b[1;32m   3862\u001b[0m             new_index \u001b[39m=\u001b[39m index[loc]\n\u001b[1;32m   3863\u001b[0m \u001b[39melse\u001b[39;00m:\n\u001b[0;32m-> 3864\u001b[0m     loc \u001b[39m=\u001b[39m index\u001b[39m.\u001b[39;49mget_loc(key)\n\u001b[1;32m   3866\u001b[0m     \u001b[39mif\u001b[39;00m \u001b[39misinstance\u001b[39m(loc, np\u001b[39m.\u001b[39mndarray):\n\u001b[1;32m   3867\u001b[0m         \u001b[39mif\u001b[39;00m loc\u001b[39m.\u001b[39mdtype \u001b[39m==\u001b[39m np\u001b[39m.\u001b[39mbool_:\n",
      "File \u001b[0;32m~/opt/anaconda3/lib/python3.9/site-packages/pandas/core/indexes/base.py:3623\u001b[0m, in \u001b[0;36mIndex.get_loc\u001b[0;34m(self, key, method, tolerance)\u001b[0m\n\u001b[1;32m   3621\u001b[0m     \u001b[39mreturn\u001b[39;00m \u001b[39mself\u001b[39m\u001b[39m.\u001b[39m_engine\u001b[39m.\u001b[39mget_loc(casted_key)\n\u001b[1;32m   3622\u001b[0m \u001b[39mexcept\u001b[39;00m \u001b[39mKeyError\u001b[39;00m \u001b[39mas\u001b[39;00m err:\n\u001b[0;32m-> 3623\u001b[0m     \u001b[39mraise\u001b[39;00m \u001b[39mKeyError\u001b[39;00m(key) \u001b[39mfrom\u001b[39;00m \u001b[39merr\u001b[39;00m\n\u001b[1;32m   3624\u001b[0m \u001b[39mexcept\u001b[39;00m \u001b[39mTypeError\u001b[39;00m:\n\u001b[1;32m   3625\u001b[0m     \u001b[39m# If we have a listlike key, _check_indexing_error will raise\u001b[39;00m\n\u001b[1;32m   3626\u001b[0m     \u001b[39m#  InvalidIndexError. Otherwise we fall through and re-raise\u001b[39;00m\n\u001b[1;32m   3627\u001b[0m     \u001b[39m#  the TypeError.\u001b[39;00m\n\u001b[1;32m   3628\u001b[0m     \u001b[39mself\u001b[39m\u001b[39m.\u001b[39m_check_indexing_error(key)\n",
      "\u001b[0;31mKeyError\u001b[0m: 'HUM'"
     ]
    }
   ],
   "source": [
    "# Sorting top airports by their cluster number \n",
    "\n",
    "top_airports.sort(key=lambda x: clusters_series.loc[x])"
   ]
  },
  {
   "cell_type": "code",
   "execution_count": 652,
   "metadata": {},
   "outputs": [
    {
     "data": {
      "image/png": "[encoded data removed]",
      "text/plain": [
       "<Figure size 720x360 with 4 Axes>"
      ]
     },
     "metadata": {
      "needs_background": "light"
     },
     "output_type": "display_data"
    }
   ],
   "source": [
    "# Visualizing the adjacency matrix before and after sorting by clusters\n",
    "\n",
    "fig, axs = plt.subplots(1, 2, figsize=(10,5))\n",
    "\n",
    "img = axs[0].imshow(matrix, cmap='Reds');\n",
    "fig.colorbar(img, ax=axs[0]);\n",
    "\n",
    "matrix_2 = matrix.loc[clusters_series.index, clusters_series.index]\n",
    "img = axs[1].imshow(matrix_2, cmap='Reds');\n",
    "axs[1].set_yticks(range(len(matrix_2)), clusters_series.values);\n",
    "fig.colorbar(img, ax=axs[1]);\n"
   ]
  },
  {
   "cell_type": "code",
   "execution_count": 653,
   "metadata": {},
   "outputs": [
    {
     "data": {
      "image/png": "[encoded data removed]",
      "text/plain": [
       "<Figure size 720x360 with 4 Axes>"
      ]
     },
     "metadata": {
      "needs_background": "light"
     },
     "output_type": "display_data"
    }
   ],
   "source": [
    "# Visualizing the carpet plot before and after sorting by clusters\n",
    "\n",
    "carpet = one_year.pivot_table(index=['Origin_airport', 'Destination_airport'], \\\n",
    "    columns='Fly_date', values='Passengers', aggfunc='sum').fillna(0).reset_index()\n",
    "\n",
    "carpet2 = pd.merge(clusters_series, carpet, right_on='Origin_airport', left_index=True)\n",
    "carpet2 = carpet2.sort_values(['cluster', 'Origin_airport'])\n",
    "carpet2.reset_index(drop=True, inplace=True)\n",
    "\n",
    "fig, axs = plt.subplots(1, 2, figsize=(10,5))\n",
    "img = axs[0].imshow(carpet[carpet.columns[2:]], cmap='Reds', aspect='auto');\n",
    "fig.colorbar(img, ax=axs[0]);\n",
    "img = axs[1].imshow(carpet2[carpet.columns[3:]], cmap='Reds', aspect='auto');\n",
    "# axs[1].set_yticks(carpet2.index[::10], carpet2['cluster'][::10].values);\n",
    "axs[1].set_yticks(carpet2.index, carpet2['cluster'].values);\n",
    "fig.colorbar(img, ax=axs[1]);"
   ]
  },
  {
   "attachments": {},
   "cell_type": "markdown",
   "metadata": {},
   "source": [
    "## Flights for airport grid"
   ]
  },
  {
   "cell_type": "code",
   "execution_count": 654,
   "metadata": {},
   "outputs": [],
   "source": [
    "# time_steps = 12"
   ]
  },
  {
   "cell_type": "code",
   "execution_count": 655,
   "metadata": {},
   "outputs": [
    {
     "name": "stderr",
     "output_type": "stream",
     "text": [
      "/var/folders/l9/y8y3rmys2sl93tzzph3dl7jw0000gr/T/ipykernel_44831/85588585.py:1: SettingWithCopyWarning: \n",
      "A value is trying to be set on a copy of a slice from a DataFrame\n",
      "\n",
      "See the caveats in the documentation: https://pandas.pydata.org/pandas-docs/stable/user_guide/indexing.html#returning-a-view-versus-a-copy\n",
      "  one_year['Fly_date'].replace(date_encoding, inplace=True)\n",
      "/var/folders/l9/y8y3rmys2sl93tzzph3dl7jw0000gr/T/ipykernel_44831/85588585.py:2: SettingWithCopyWarning: \n",
      "A value is trying to be set on a copy of a slice from a DataFrame.\n",
      "Try using .loc[row_indexer,col_indexer] = value instead\n",
      "\n",
      "See the caveats in the documentation: https://pandas.pydata.org/pandas-docs/stable/user_guide/indexing.html#returning-a-view-versus-a-copy\n",
      "  one_year['Fly_date'] = one_year['Fly_date'] + 1\n"
     ]
    }
   ],
   "source": [
    "one_year['Fly_date'].replace(date_encoding, inplace=True)\n",
    "one_year['Fly_date'] = one_year['Fly_date'] + 1"
   ]
  },
  {
   "cell_type": "code",
   "execution_count": 656,
   "metadata": {},
   "outputs": [],
   "source": [
    "merged  = pd.merge(one_year, clusters_series, left_on='Origin_airport', right_index=True)\n",
    "merged2 = pd.merge(merged, clusters_series, left_on='Destination_airport', right_index=True, suffixes=('_origin', '_destination'))"
   ]
  },
  {
   "cell_type": "code",
   "execution_count": 657,
   "metadata": {},
   "outputs": [
    {
     "data": {
      "text/html": [
       "<div>\n",
       "<style scoped>\n",
       "    .dataframe tbody tr th:only-of-type {\n",
       "        vertical-align: middle;\n",
       "    }\n",
       "\n",
       "    .dataframe tbody tr th {\n",
       "        vertical-align: top;\n",
       "    }\n",
       "\n",
       "    .dataframe thead th {\n",
       "        text-align: right;\n",
       "    }\n",
       "</style>\n",
       "<table border=\"1\" class=\"dataframe\">\n",
       "  <thead>\n",
       "    <tr style=\"text-align: right;\">\n",
       "      <th></th>\n",
       "      <th>cluster_origin</th>\n",
       "      <th>cluster_destination</th>\n",
       "      <th>size</th>\n",
       "      <th>sum</th>\n",
       "    </tr>\n",
       "  </thead>\n",
       "  <tbody>\n",
       "    <tr>\n",
       "      <th>0</th>\n",
       "      <td>0</td>\n",
       "      <td>0</td>\n",
       "      <td>570</td>\n",
       "      <td>123783</td>\n",
       "    </tr>\n",
       "    <tr>\n",
       "      <th>3</th>\n",
       "      <td>1</td>\n",
       "      <td>1</td>\n",
       "      <td>318</td>\n",
       "      <td>97460</td>\n",
       "    </tr>\n",
       "    <tr>\n",
       "      <th>1</th>\n",
       "      <td>0</td>\n",
       "      <td>1</td>\n",
       "      <td>6</td>\n",
       "      <td>109</td>\n",
       "    </tr>\n",
       "    <tr>\n",
       "      <th>2</th>\n",
       "      <td>1</td>\n",
       "      <td>0</td>\n",
       "      <td>6</td>\n",
       "      <td>111</td>\n",
       "    </tr>\n",
       "  </tbody>\n",
       "</table>\n",
       "</div>"
      ],
      "text/plain": [
       "   cluster_origin  cluster_destination  size     sum\n",
       "0               0                    0   570  123783\n",
       "3               1                    1   318   97460\n",
       "1               0                    1     6     109\n",
       "2               1                    0     6     111"
      ]
     },
     "execution_count": 657,
     "metadata": {},
     "output_type": "execute_result"
    }
   ],
   "source": [
    "cluster_stats = merged2.groupby(['cluster_origin', 'cluster_destination']).apply(\\\n",
    "                    lambda x: pd.Series({'size': x.size, 'sum': x['Passengers'].sum()})).reset_index()\n",
    "\n",
    "cluster_stats.sort_values(['size'], ascending=False)"
   ]
  },
  {
   "cell_type": "code",
   "execution_count": 658,
   "metadata": {},
   "outputs": [
    {
     "data": {
      "text/html": [
       "<div>\n",
       "<style scoped>\n",
       "    .dataframe tbody tr th:only-of-type {\n",
       "        vertical-align: middle;\n",
       "    }\n",
       "\n",
       "    .dataframe tbody tr th {\n",
       "        vertical-align: top;\n",
       "    }\n",
       "\n",
       "    .dataframe thead th {\n",
       "        text-align: right;\n",
       "    }\n",
       "</style>\n",
       "<table border=\"1\" class=\"dataframe\">\n",
       "  <thead>\n",
       "    <tr style=\"text-align: right;\">\n",
       "      <th></th>\n",
       "      <th>Origin_airport</th>\n",
       "      <th>Destination_airport</th>\n",
       "      <th>Fly_date</th>\n",
       "      <th>Passengers</th>\n",
       "      <th>cluster_origin</th>\n",
       "      <th>cluster_destination</th>\n",
       "    </tr>\n",
       "  </thead>\n",
       "  <tbody>\n",
       "    <tr>\n",
       "      <th>151</th>\n",
       "      <td>BTR</td>\n",
       "      <td>LFT</td>\n",
       "      <td>1</td>\n",
       "      <td>830</td>\n",
       "      <td>0</td>\n",
       "      <td>0</td>\n",
       "    </tr>\n",
       "    <tr>\n",
       "      <th>152</th>\n",
       "      <td>BTR</td>\n",
       "      <td>LFT</td>\n",
       "      <td>2</td>\n",
       "      <td>697</td>\n",
       "      <td>0</td>\n",
       "      <td>0</td>\n",
       "    </tr>\n",
       "    <tr>\n",
       "      <th>153</th>\n",
       "      <td>BTR</td>\n",
       "      <td>LFT</td>\n",
       "      <td>3</td>\n",
       "      <td>867</td>\n",
       "      <td>0</td>\n",
       "      <td>0</td>\n",
       "    </tr>\n",
       "    <tr>\n",
       "      <th>154</th>\n",
       "      <td>BTR</td>\n",
       "      <td>LFT</td>\n",
       "      <td>4</td>\n",
       "      <td>1018</td>\n",
       "      <td>0</td>\n",
       "      <td>0</td>\n",
       "    </tr>\n",
       "    <tr>\n",
       "      <th>155</th>\n",
       "      <td>BTR</td>\n",
       "      <td>LFT</td>\n",
       "      <td>5</td>\n",
       "      <td>788</td>\n",
       "      <td>0</td>\n",
       "      <td>0</td>\n",
       "    </tr>\n",
       "  </tbody>\n",
       "</table>\n",
       "</div>"
      ],
      "text/plain": [
       "    Origin_airport Destination_airport  Fly_date  Passengers  cluster_origin  \\\n",
       "151            BTR                 LFT         1         830               0   \n",
       "152            BTR                 LFT         2         697               0   \n",
       "153            BTR                 LFT         3         867               0   \n",
       "154            BTR                 LFT         4        1018               0   \n",
       "155            BTR                 LFT         5         788               0   \n",
       "\n",
       "     cluster_destination  \n",
       "151                    0  \n",
       "152                    0  \n",
       "153                    0  \n",
       "154                    0  \n",
       "155                    0  "
      ]
     },
     "execution_count": 658,
     "metadata": {},
     "output_type": "execute_result"
    }
   ],
   "source": [
    "merged2.head()"
   ]
  },
  {
   "cell_type": "code",
   "execution_count": 659,
   "metadata": {},
   "outputs": [
    {
     "data": {
      "text/html": [
       "<div>\n",
       "<style scoped>\n",
       "    .dataframe tbody tr th:only-of-type {\n",
       "        vertical-align: middle;\n",
       "    }\n",
       "\n",
       "    .dataframe tbody tr th {\n",
       "        vertical-align: top;\n",
       "    }\n",
       "\n",
       "    .dataframe thead th {\n",
       "        text-align: right;\n",
       "    }\n",
       "</style>\n",
       "<table border=\"1\" class=\"dataframe\">\n",
       "  <thead>\n",
       "    <tr style=\"text-align: right;\">\n",
       "      <th></th>\n",
       "      <th>Origin_airport</th>\n",
       "      <th>Destination_airport</th>\n",
       "      <th>Fly_date</th>\n",
       "      <th>Passengers</th>\n",
       "      <th>cluster_origin</th>\n",
       "      <th>cluster_destination</th>\n",
       "    </tr>\n",
       "  </thead>\n",
       "  <tbody>\n",
       "    <tr>\n",
       "      <th>2132</th>\n",
       "      <td>SHV</td>\n",
       "      <td>MLU</td>\n",
       "      <td>6</td>\n",
       "      <td>4654</td>\n",
       "      <td>0</td>\n",
       "      <td>0</td>\n",
       "    </tr>\n",
       "    <tr>\n",
       "      <th>2134</th>\n",
       "      <td>SHV</td>\n",
       "      <td>MLU</td>\n",
       "      <td>8</td>\n",
       "      <td>4603</td>\n",
       "      <td>0</td>\n",
       "      <td>0</td>\n",
       "    </tr>\n",
       "    <tr>\n",
       "      <th>2133</th>\n",
       "      <td>SHV</td>\n",
       "      <td>MLU</td>\n",
       "      <td>7</td>\n",
       "      <td>4564</td>\n",
       "      <td>0</td>\n",
       "      <td>0</td>\n",
       "    </tr>\n",
       "    <tr>\n",
       "      <th>2138</th>\n",
       "      <td>SHV</td>\n",
       "      <td>MLU</td>\n",
       "      <td>12</td>\n",
       "      <td>3906</td>\n",
       "      <td>0</td>\n",
       "      <td>0</td>\n",
       "    </tr>\n",
       "    <tr>\n",
       "      <th>2129</th>\n",
       "      <td>SHV</td>\n",
       "      <td>MLU</td>\n",
       "      <td>3</td>\n",
       "      <td>3881</td>\n",
       "      <td>0</td>\n",
       "      <td>0</td>\n",
       "    </tr>\n",
       "    <tr>\n",
       "      <th>1919</th>\n",
       "      <td>PUB</td>\n",
       "      <td>COS</td>\n",
       "      <td>8</td>\n",
       "      <td>3837</td>\n",
       "      <td>1</td>\n",
       "      <td>1</td>\n",
       "    </tr>\n",
       "    <tr>\n",
       "      <th>1330</th>\n",
       "      <td>MLU</td>\n",
       "      <td>SHV</td>\n",
       "      <td>7</td>\n",
       "      <td>3758</td>\n",
       "      <td>0</td>\n",
       "      <td>0</td>\n",
       "    </tr>\n",
       "    <tr>\n",
       "      <th>608</th>\n",
       "      <td>COS</td>\n",
       "      <td>PUB</td>\n",
       "      <td>8</td>\n",
       "      <td>3675</td>\n",
       "      <td>1</td>\n",
       "      <td>1</td>\n",
       "    </tr>\n",
       "    <tr>\n",
       "      <th>2137</th>\n",
       "      <td>SHV</td>\n",
       "      <td>MLU</td>\n",
       "      <td>11</td>\n",
       "      <td>3611</td>\n",
       "      <td>0</td>\n",
       "      <td>0</td>\n",
       "    </tr>\n",
       "    <tr>\n",
       "      <th>2131</th>\n",
       "      <td>SHV</td>\n",
       "      <td>MLU</td>\n",
       "      <td>5</td>\n",
       "      <td>3585</td>\n",
       "      <td>0</td>\n",
       "      <td>0</td>\n",
       "    </tr>\n",
       "  </tbody>\n",
       "</table>\n",
       "</div>"
      ],
      "text/plain": [
       "     Origin_airport Destination_airport  Fly_date  Passengers  cluster_origin  \\\n",
       "2132            SHV                 MLU         6        4654               0   \n",
       "2134            SHV                 MLU         8        4603               0   \n",
       "2133            SHV                 MLU         7        4564               0   \n",
       "2138            SHV                 MLU        12        3906               0   \n",
       "2129            SHV                 MLU         3        3881               0   \n",
       "1919            PUB                 COS         8        3837               1   \n",
       "1330            MLU                 SHV         7        3758               0   \n",
       "608             COS                 PUB         8        3675               1   \n",
       "2137            SHV                 MLU        11        3611               0   \n",
       "2131            SHV                 MLU         5        3585               0   \n",
       "\n",
       "      cluster_destination  \n",
       "2132                    0  \n",
       "2134                    0  \n",
       "2133                    0  \n",
       "2138                    0  \n",
       "2129                    0  \n",
       "1919                    1  \n",
       "1330                    0  \n",
       "608                     1  \n",
       "2137                    0  \n",
       "2131                    0  "
      ]
     },
     "execution_count": 659,
     "metadata": {},
     "output_type": "execute_result"
    }
   ],
   "source": [
    "merged2.sort_values(['Passengers'], ascending=False).head(10)"
   ]
  },
  {
   "cell_type": "code",
   "execution_count": 660,
   "metadata": {},
   "outputs": [],
   "source": [
    "merged2['color'] = merged2.apply(lambda x: \"red\" if x['cluster_origin'] == x['cluster_destination'] else \"blue\", axis=1)\n",
    "merged2['Origin_airport']      = merged2.apply(lambda x: \"%s_%s\" % (x['Origin_airport'],      x['Fly_date']), axis=1)\n",
    "merged2['Destination_airport'] = merged2.apply(lambda x: \"%s_%s\" % (x['Destination_airport'], x['Fly_date']+1), axis=1)"
   ]
  },
  {
   "cell_type": "code",
   "execution_count": 661,
   "metadata": {},
   "outputs": [],
   "source": [
    "\n",
    "merged2 = merged2[['Origin_airport', 'Destination_airport', 'Passengers', 'color']]\n",
    "merged2.columns = ['origin', 'destination', 'count', 'color']\n",
    "merged2.to_csv('flights.csv', index=False)"
   ]
  },
  {
   "attachments": {},
   "cell_type": "markdown",
   "metadata": {},
   "source": [
    "## Grid Positioning \n",
    "\n",
    "$ (t*c_x, i*c_y)$ where $i \\in [0, N]$  and $t \\in [0, T]$ such that $N$ is number of nodes (e.g. airports) and $T$ is time (e.g. days). \n",
    "\n",
    "$c_x$ and $c_y$ are constants that define the distance distance from origin $(0, 0)$ as well as between other nodes. "
   ]
  },
  {
   "cell_type": "code",
   "execution_count": 599,
   "metadata": {},
   "outputs": [
    {
     "data": {
      "text/plain": [
       "0"
      ]
     },
     "execution_count": 599,
     "metadata": {},
     "output_type": "execute_result"
    }
   ],
   "source": [
    "clusters_series['MLU']"
   ]
  },
  {
   "cell_type": "code",
   "execution_count": 664,
   "metadata": {},
   "outputs": [],
   "source": [
    "locs = []\n",
    "\n",
    "# width = 960\n",
    "# height = 600\n",
    "time_steps = 12\n",
    "c_x = 80\n",
    "c_y = 20\n",
    "# for k in airport_encoding:\n",
    "    # i = airport_encoding[k]\n",
    "for i, k in enumerate(clusters_series.index):\n",
    "    for t in range(1, time_steps+2): #list(date_encoding.values()):\n",
    "        locs.append([\"%s_%s\" % (k,t), (t+1)*c_x, (i+1)*c_y, clusters_series[k]])\n",
    "locs_df = pd.DataFrame(locs)\n"
   ]
  },
  {
   "cell_type": "code",
   "execution_count": 665,
   "metadata": {},
   "outputs": [],
   "source": [
    "\n",
    "locs_df.columns = ['iata', 'latitude', 'longitude', 'cluster']\n",
    "\n",
    "cluster_colors = {0: \"red\", 1: \"blue\", 2: \"green\", 3: \"yellow\"}\n",
    "\n",
    "locs_df['color'] = locs_df['cluster'].apply(lambda x: cluster_colors[x])"
   ]
  },
  {
   "cell_type": "code",
   "execution_count": 666,
   "metadata": {},
   "outputs": [
    {
     "data": {
      "text/plain": [
       "cluster\n",
       "0    [MLU, LFT, ESF, AEX, ARA, SHV, BAD, BTR, MSY, ...\n",
       "1                            [PUB, DRO, MTJ, GJT, COS]\n",
       "dtype: object"
      ]
     },
     "execution_count": 666,
     "metadata": {},
     "output_type": "execute_result"
    }
   ],
   "source": [
    "clusters_series.reset_index().groupby('cluster').apply(lambda x: list(x['index'].values))"
   ]
  },
  {
   "cell_type": "code",
   "execution_count": 667,
   "metadata": {},
   "outputs": [],
   "source": [
    "\n",
    "\n",
    "# locs_df['latitude']  = locs_df['latitude']\n",
    "# locs_df['latitude']  = locs_df['latitude']\n",
    "locs_df.to_csv('grid_locs.csv', index=False)"
   ]
  }
 ],
 "metadata": {
  "kernelspec": {
   "display_name": "base",
   "language": "python",
   "name": "python3"
  },
  "language_info": {
   "codemirror_mode": {
    "name": "ipython",
    "version": 3
   },
   "file_extension": ".py",
   "mimetype": "text/x-python",
   "name": "python",
   "nbconvert_exporter": "python",
   "pygments_lexer": "ipython3",
   "version": "3.9.12"
  },
  "orig_nbformat": 4
 },
 "nbformat": 4,
 "nbformat_minor": 2
}
