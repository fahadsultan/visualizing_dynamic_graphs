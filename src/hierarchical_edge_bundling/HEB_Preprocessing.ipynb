{
 "cells": [
  {
   "cell_type": "code",
   "execution_count": 208,
   "metadata": {},
   "outputs": [],
   "source": [
    "from tqdm import tqdm \n",
    "import pandas as pd \n",
    "\n",
    "airports     = pd.read_csv('../../data/us_large_airports.csv')\n",
    "airports     = airports[airports['type'] == 'large_airport']\n",
    "big_airports =  list(set(airports['iata_code'].dropna().unique()))[:35]  #{'ATL', 'JFK', 'LAX', 'ORD'}\n",
    "\n",
    "flights  = pd.read_csv('../../data/Airports2.csv', usecols=['Origin_airport', 'Destination_airport', 'Origin_city', 'Destination_city', 'Fly_date'])\n",
    "flights = flights[flights.apply(lambda x: (x['Origin_airport'] in big_airports) and (x['Destination_airport'] in big_airports), axis=1)]\n",
    "flights  = flights.drop_duplicates()\n",
    "\n",
    "flights['Fly_date'] = pd.to_datetime(flights['Fly_date'])               \n",
    "\n",
    "flights.sort_values(by=['Fly_date'], inplace=True)\n",
    "\n",
    "flights.drop(columns=['Origin_city', 'Destination_city'], inplace=True)\n",
    "flights.reset_index(drop=True, inplace=True)\n",
    "\n",
    "T = flights['Fly_date'].unique()\n",
    "date_encoding = {v:i for i, v in enumerate(T)}\n",
    "airport_encoding = {airport:i for i, airport in enumerate(big_airports)}"
   ]
  },
  {
   "cell_type": "code",
   "execution_count": 209,
   "metadata": {},
   "outputs": [],
   "source": [
    "time_steps = 12"
   ]
  },
  {
   "cell_type": "code",
   "execution_count": 210,
   "metadata": {},
   "outputs": [],
   "source": [
    "flights['Fly_date'].replace(date_encoding, inplace=True)"
   ]
  },
  {
   "cell_type": "code",
   "execution_count": 211,
   "metadata": {},
   "outputs": [],
   "source": [
    "flights['Origin_airport']      = flights.apply(lambda x: \"%s_%s\" % (x['Origin_airport'],      x['Fly_date']), axis=1)\n",
    "flights['Destination_airport'] = flights.apply(lambda x: \"%s_%s\" % (x['Destination_airport'], x['Fly_date']+1), axis=1)\n",
    "\n",
    "filtered = flights[flights['Fly_date'].apply(lambda x: x in range(time_steps))]\n",
    "filtered.columns = ['origin', 'destination', 'count']\n",
    "filtered.to_csv('flights.csv', index=False)"
   ]
  },
  {
   "attachments": {},
   "cell_type": "markdown",
   "metadata": {},
   "source": [
    "## Grid Positioning \n",
    "\n",
    "$ (t*c_x, i*c_y)$ where $i \\in [0, N]$  and $t \\in [0, T]$ such that $N$ is number of nodes (e.g. airports) and $T$ is time (e.g. days). \n",
    "\n",
    "$c_x$ and $c_y$ are constants that define the distance distance from origin $(0, 0)$ as well as between other nodes. "
   ]
  },
  {
   "cell_type": "code",
   "execution_count": 212,
   "metadata": {},
   "outputs": [],
   "source": [
    "locs = []\n",
    "\n",
    "# width = 960\n",
    "# height = 600\n",
    "\n",
    "c_x = 100\n",
    "c_y = 20\n",
    "for k in airport_encoding:\n",
    "    i = airport_encoding[k]\n",
    "    for t in range(time_steps+1): #list(date_encoding.values()):\n",
    "        locs.append([\"%s_%s\" % (k,t), (t+1)*c_x, (i+1)*c_y])\n",
    "\n",
    "locs_df = pd.DataFrame(locs)\n",
    "locs_df.columns = ['iata', 'latitude', 'longitude']\n",
    "locs_df['latitude']  = locs_df['latitude']\n",
    "locs_df['latitude']  = locs_df['latitude']\n",
    "locs_df.to_csv('grid_locs.csv', index=False)"
   ]
  },
  {
   "cell_type": "code",
   "execution_count": null,
   "metadata": {},
   "outputs": [],
   "source": []
  }
 ],
 "metadata": {
  "kernelspec": {
   "display_name": "base",
   "language": "python",
   "name": "python3"
  },
  "language_info": {
   "codemirror_mode": {
    "name": "ipython",
    "version": 3
   },
   "file_extension": ".py",
   "mimetype": "text/x-python",
   "name": "python",
   "nbconvert_exporter": "python",
   "pygments_lexer": "ipython3",
   "version": "3.9.12"
  },
  "orig_nbformat": 4
 },
 "nbformat": 4,
 "nbformat_minor": 2
}
